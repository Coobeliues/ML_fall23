{
 "cells": [
  {
   "cell_type": "code",
   "execution_count": 1,
   "id": "79b6cc96-3aed-4096-8c58-0894a0cac934",
   "metadata": {},
   "outputs": [],
   "source": [
    "# -*- coding: utf-8 -*-\n",
    "# @Time : 20-6-4 下午2:13\n",
    "# @Author : zhuying\n",
    "# @Company : Minivision\n",
    "# @File : utility.py\n",
    "# @Software : PyCharm\n",
    "\n",
    "from datetime import datetime\n",
    "import os\n",
    "\n",
    "\n",
    "def get_time():\n",
    "    return (str(datetime.now())[:-10]).replace(' ', '-').replace(':', '-')\n",
    "\n",
    "\n",
    "def get_kernel(height, width):\n",
    "    kernel_size = ((height + 15) // 16, (width + 15) // 16)\n",
    "    return kernel_size\n",
    "\n",
    "\n",
    "def get_width_height(patch_info):\n",
    "    w_input = int(patch_info.split('x')[-1])\n",
    "    h_input = int(patch_info.split('x')[0].split('_')[-1])\n",
    "    return w_input,h_input\n",
    "\n",
    "\n",
    "def parse_model_name(model_name):\n",
    "    info = model_name.split('_')[0:-1]\n",
    "    h_input, w_input = info[-1].split('x')\n",
    "    model_type = model_name.split('.pth')[0].split('_')[-1]\n",
    "\n",
    "    if info[0] == \"org\":\n",
    "        scale = None\n",
    "    else:\n",
    "        scale = float(info[0])\n",
    "    return int(h_input), int(w_input), model_type, scale\n",
    "\n",
    "\n",
    "def make_if_not_exist(folder_path):\n",
    "    if not os.path.exists(folder_path):\n",
    "        os.makedirs(folder_path)"
   ]
  }
 ],
 "metadata": {
  "kernelspec": {
   "display_name": "Python 3 (ipykernel)",
   "language": "python",
   "name": "python3"
  },
  "language_info": {
   "codemirror_mode": {
    "name": "ipython",
    "version": 3
   },
   "file_extension": ".py",
   "mimetype": "text/x-python",
   "name": "python",
   "nbconvert_exporter": "python",
   "pygments_lexer": "ipython3",
   "version": "3.10.13"
  }
 },
 "nbformat": 4,
 "nbformat_minor": 5
}
