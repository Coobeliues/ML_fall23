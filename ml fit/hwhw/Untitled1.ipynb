{
 "cells": [
  {
   "cell_type": "code",
   "execution_count": 1,
   "id": "79d6be01-7f38-42cd-81c3-5497d85fdf2b",
   "metadata": {},
   "outputs": [],
   "source": [
    "import numpy as np\n",
    "import pandas as pd\n",
    "import matplotlib.pyplot as plt\n",
    "import seaborn as sns"
   ]
  },
  {
   "cell_type": "code",
   "execution_count": 2,
   "id": "21607d86-0976-4fb6-9a41-117052316e59",
   "metadata": {},
   "outputs": [
    {
     "name": "stdout",
     "output_type": "stream",
     "text": [
      "The optimal value of b is: 1.04\n"
     ]
    }
   ],
   "source": [
    "import statistics\n",
    "\n",
    "y_values = [3.95, 1.24, 1.51, 0.82, 0.75, 1.06, 1.04, 0.36, 0.52]\n",
    "\n",
    "optimal_b = round(statistics.median(y_values), 2)\n",
    "\n",
    "print(f\"The optimal value of b is: {optimal_b}\")\n"
   ]
  },
  {
   "cell_type": "code",
   "execution_count": 6,
   "id": "ff70b2c3-1bfe-435f-8ba2-f6da5e13272c",
   "metadata": {},
   "outputs": [
    {
     "name": "stdout",
     "output_type": "stream",
     "text": [
      "Accuracy: 0.798\n",
      "F1-score: 0.394\n",
      "Difference: -0.404\n"
     ]
    }
   ],
   "source": [
    "TP = 14\n",
    "FP = 36\n",
    "TN = 156\n",
    "FN = 7\n",
    "\n",
    "accuracy = (TP + TN) / (TP + FP + TN + FN)\n",
    "\n",
    "precision = TP / (TP + FP)\n",
    "\n",
    "recall = TP / (TP + FN)\n",
    "\n",
    "f1_score = 2 * (precision * recall) / (precision + recall)\n",
    "\n",
    "difference = f1_score - accuracy\n",
    "\n",
    "print(f\"Accuracy: {accuracy:.3f}\")\n",
    "print(f\"F1-score: {f1_score:.3f}\")\n",
    "print(f\"Difference: {difference:.3f}\")\n"
   ]
  },
  {
   "cell_type": "code",
   "execution_count": 12,
   "id": "800a18a0-aa6e-45c0-9830-59ed6a16afe4",
   "metadata": {},
   "outputs": [
    {
     "name": "stdout",
     "output_type": "stream",
     "text": [
      "[0.09003057 0.24472847 0.66524096]\n"
     ]
    }
   ],
   "source": [
    "import numpy as np\n",
    "\n",
    "\n",
    "def SoftMax(x):\n",
    "    x_max = np.max(x)\n",
    "    exp_x = np.exp(x - x_max)\n",
    "\n",
    "    softmax_values = exp_x / np.sum(exp_x)\n",
    "\n",
    "    return softmax_values\n",
    "\n",
    "\n",
    "input_vector = np.array([1.0, 2.0, 3.0])\n",
    "\n",
    "output_vector = SoftMax(input_vector)\n",
    "print(output_vector)\n"
   ]
  },
  {
   "cell_type": "code",
   "execution_count": null,
   "id": "734c926f-bd2a-4edd-9fcb-13b87035098f",
   "metadata": {},
   "outputs": [],
   "source": []
  }
 ],
 "metadata": {
  "kernelspec": {
   "display_name": "Python 3 (ipykernel)",
   "language": "python",
   "name": "python3"
  },
  "language_info": {
   "codemirror_mode": {
    "name": "ipython",
    "version": 3
   },
   "file_extension": ".py",
   "mimetype": "text/x-python",
   "name": "python",
   "nbconvert_exporter": "python",
   "pygments_lexer": "ipython3",
   "version": "3.10.13"
  }
 },
 "nbformat": 4,
 "nbformat_minor": 5
}
