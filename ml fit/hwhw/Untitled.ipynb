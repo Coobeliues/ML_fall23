{
 "cells": [
  {
   "cell_type": "code",
   "execution_count": 1,
   "id": "37b09886-8f5b-43ac-a6e1-66e9f77d5680",
   "metadata": {},
   "outputs": [],
   "source": [
    "import numpy as np\n",
    "import pandas as pd\n",
    "\n",
    "import matplotlib.pyplot as plt\n",
    "\n",
    "from PIL import Image\n",
    "\n",
    "from keras.layers import Dense, Conv2D, Flatten, MaxPool2D\n",
    "from keras.models import Sequential\n",
    "from keras.utils import to_categorical\n",
    "\n",
    "import os\n",
    "\n",
    "import random\n",
    "random.seed(0)\n"
   ]
  },
  {
   "cell_type": "code",
   "execution_count": 2,
   "id": "abdcb9b3-820d-4c6f-b8c1-81b4ebf21439",
   "metadata": {},
   "outputs": [
    {
     "name": "stdout",
     "output_type": "stream",
     "text": [
      "There are 10 classes: ['A', 'B', 'C', 'D', 'E', 'F', 'G', 'H', 'I', 'J']\n"
     ]
    }
   ],
   "source": [
    "PATH = 'notMNIST_small'\n",
    "\n",
    "classes = os.listdir(PATH)\n",
    "num_classes = len(classes)\n",
    "\n",
    "print(\"There are {} classes: {}\".format(num_classes, classes))"
   ]
  },
  {
   "cell_type": "code",
   "execution_count": 26,
   "id": "7010f82d-302f-4494-b1ca-b33dc1649156",
   "metadata": {},
   "outputs": [],
   "source": [
    "X = []\n",
    "y = []\n",
    "\n",
    "for directory in os.listdir(PATH):\n",
    "    for image in os.listdir(PATH + '/' + directory):\n",
    "        try:\n",
    "            path = PATH + '/' + directory + '/' + image\n",
    "            img = Image.open(path)\n",
    "            img.load()\n",
    "            img_X = np.asarray(img, dtype=np.int16)\n",
    "            X.append(img_X)\n",
    "            y.append(directory)\n",
    "        except:\n",
    "            None\n",
    "            \n",
    "X = np.asarray(X)\n",
    "y = np.asarray(y)\n",
    "\n",
    "num_images = len(X)\n",
    "size = len(X[0])\n",
    "\n",
    "y = list(map(lambda x: ord(x) - ord('A'), y))\n",
    "y = np.asarray(y)\n",
    "\n",
    "indices = np.arange(X.shape[0])\n",
    "np.random.shuffle(indices)\n",
    "\n",
    "X = X[indices]\n",
    "y = y[indices]\n",
    "\n",
    "num_train_img = np.int64(0.7 * X.shape[0])\n",
    "\n",
    "X_train = X[:num_train_img]\n",
    "y_train = y[:num_train_img]\n",
    "\n",
    "X_test = X[num_train_img:]\n",
    "y_test = y[num_train_img:]\n",
    "\n",
    "if y_train.ndim == 1: y_train = to_categorical(y_train, 10)\n",
    "if y_test.ndim == 1: y_test = to_categorical(y_test, 10)\n",
    "\n",
    "if np.max(X_train) == 255: X_train = X_train / 255 \n",
    "if np.max(X_test) == 255: X_test = X_test / 255\n",
    "\n",
    "if X_train.ndim == 3:\n",
    "    num_pixels = size * size\n",
    "    X_train_1d = X_train.reshape(X_train.shape[0], num_pixels).astype('float32')\n",
    "    X_test_1d = X_test.reshape(X_test.shape[0], num_pixels).astype('float32')\n",
    "\n",
    "if X_train.ndim == 3:\n",
    "    X_train = X_train.reshape(-1, size, size, 1).astype('float32')\n",
    "    X_test = X_test.reshape(-1, size, size, 1).astype('float32')\n",
    "\n",
    "input_shape = X_train.shape[1:]\n",
    "\n",
    "\n",
    "input_shape_1d = X_train_1d.shape[1]\n"
   ]
  },
  {
   "cell_type": "code",
   "execution_count": 27,
   "id": "403c46ab-8198-498f-948d-1e0d6423f12c",
   "metadata": {},
   "outputs": [
    {
     "name": "stdout",
     "output_type": "stream",
     "text": [
      "Model: \"sequential_2\"\n",
      "_________________________________________________________________\n",
      " Layer (type)                Output Shape              Param #   \n",
      "=================================================================\n",
      " dense_6 (Dense)             (None, 512)               401920    \n",
      "                                                                 \n",
      " dense_7 (Dense)             (None, 256)               131328    \n",
      "                                                                 \n",
      " dense_8 (Dense)             (None, 128)               32896     \n",
      "                                                                 \n",
      " dense_9 (Dense)             (None, 10)                1290      \n",
      "                                                                 \n",
      "=================================================================\n",
      "Total params: 567,434\n",
      "Trainable params: 567,434\n",
      "Non-trainable params: 0\n",
      "_________________________________________________________________\n"
     ]
    }
   ],
   "source": [
    "model_mlp = Sequential([\n",
    "    Dense(512, input_dim=input_shape_1d, activation='relu'),\n",
    "    Dense(256, activation='relu'),\n",
    "    Dense(128, activation='relu'),\n",
    "    Dense(num_classes, activation='softmax')\n",
    "    \n",
    "])\n",
    "\n",
    "model_mlp.compile(optimizer='adam', metrics=['accuracy'], loss='categorical_crossentropy')\n",
    "model_mlp.summary()"
   ]
  },
  {
   "cell_type": "code",
   "execution_count": 28,
   "id": "ab3be18d-22de-4b6f-b8b4-6c9b7564acde",
   "metadata": {},
   "outputs": [
    {
     "name": "stdout",
     "output_type": "stream",
     "text": [
      "Epoch 1/10\n",
      "410/410 [==============================] - 2s 4ms/step - loss: 0.4783 - accuracy: 0.8568\n",
      "Epoch 2/10\n",
      "410/410 [==============================] - 2s 5ms/step - loss: 0.3104 - accuracy: 0.9077\n",
      "Epoch 3/10\n",
      "410/410 [==============================] - 2s 5ms/step - loss: 0.2544 - accuracy: 0.9227\n",
      "Epoch 4/10\n",
      "410/410 [==============================] - 2s 6ms/step - loss: 0.2184 - accuracy: 0.9306\n",
      "Epoch 5/10\n",
      "410/410 [==============================] - 2s 5ms/step - loss: 0.1825 - accuracy: 0.9412\n",
      "Epoch 6/10\n",
      "410/410 [==============================] - 2s 4ms/step - loss: 0.1516 - accuracy: 0.9513\n",
      "Epoch 7/10\n",
      "410/410 [==============================] - 2s 5ms/step - loss: 0.1304 - accuracy: 0.9576\n",
      "Epoch 8/10\n",
      "410/410 [==============================] - 2s 5ms/step - loss: 0.1284 - accuracy: 0.9599\n",
      "Epoch 9/10\n",
      "410/410 [==============================] - 2s 4ms/step - loss: 0.1074 - accuracy: 0.9647\n",
      "Epoch 10/10\n",
      "410/410 [==============================] - 2s 4ms/step - loss: 0.0927 - accuracy: 0.9684\n"
     ]
    },
    {
     "data": {
      "text/plain": [
       "<keras.callbacks.History at 0x1b8eed7a710>"
      ]
     },
     "execution_count": 28,
     "metadata": {},
     "output_type": "execute_result"
    }
   ],
   "source": [
    "model_mlp.fit(X_train_1d, y_train, epochs=10)\n"
   ]
  },
  {
   "cell_type": "code",
   "execution_count": 29,
   "id": "96ed6a1d-fcd3-4da7-9a3d-8163a6343fd8",
   "metadata": {},
   "outputs": [
    {
     "name": "stdout",
     "output_type": "stream",
     "text": [
      "176/176 [==============================] - 1s 3ms/step - loss: 0.3786 - accuracy: 0.9176\n"
     ]
    }
   ],
   "source": [
    "score = model_mlp.evaluate(X_test_1d, y_test, verbose=1)\n"
   ]
  },
  {
   "cell_type": "code",
   "execution_count": 30,
   "id": "34f3cdb8-523f-40f8-9178-1903eef85e28",
   "metadata": {},
   "outputs": [
    {
     "name": "stdout",
     "output_type": "stream",
     "text": [
      "Model: \"sequential_3\"\n",
      "_________________________________________________________________\n",
      " Layer (type)                Output Shape              Param #   \n",
      "=================================================================\n",
      " conv2d_2 (Conv2D)           (None, 26, 26, 32)        320       \n",
      "                                                                 \n",
      " max_pooling2d_2 (MaxPooling  (None, 13, 13, 32)       0         \n",
      " 2D)                                                             \n",
      "                                                                 \n",
      " conv2d_3 (Conv2D)           (None, 11, 11, 64)        18496     \n",
      "                                                                 \n",
      " max_pooling2d_3 (MaxPooling  (None, 5, 5, 64)         0         \n",
      " 2D)                                                             \n",
      "                                                                 \n",
      " flatten_1 (Flatten)         (None, 1600)              0         \n",
      "                                                                 \n",
      " dense_10 (Dense)            (None, 512)               819712    \n",
      "                                                                 \n",
      " dense_11 (Dense)            (None, 10)                5130      \n",
      "                                                                 \n",
      "=================================================================\n",
      "Total params: 843,658\n",
      "Trainable params: 843,658\n",
      "Non-trainable params: 0\n",
      "_________________________________________________________________\n"
     ]
    }
   ],
   "source": [
    "model_cnn = Sequential([\n",
    "    Conv2D(filters=32, kernel_size=(3,3), activation='relu', input_shape=input_shape),\n",
    "    MaxPool2D(),\n",
    "    \n",
    "    Conv2D(filters=64, kernel_size=(3,3), activation='relu'),\n",
    "    MaxPool2D(),\n",
    "    \n",
    "    Flatten(),\n",
    "    \n",
    "    Dense(512, activation='relu'),\n",
    "    Dense(num_classes, activation='softmax'),\n",
    "])\n",
    "\n",
    "model_cnn.compile(optimizer='adam', metrics=['accuracy'], loss='categorical_crossentropy')\n",
    "model_cnn.summary()\r\n"
   ]
  },
  {
   "cell_type": "code",
   "execution_count": 31,
   "id": "efcf4f64-1ec4-4484-aa8d-0407d71670a7",
   "metadata": {},
   "outputs": [
    {
     "name": "stdout",
     "output_type": "stream",
     "text": [
      "Epoch 1/10\n",
      "410/410 [==============================] - 6s 13ms/step - loss: 0.5179 - accuracy: 0.8501\n",
      "Epoch 2/10\n",
      "410/410 [==============================] - 5s 13ms/step - loss: 0.2681 - accuracy: 0.9193\n",
      "Epoch 3/10\n",
      "410/410 [==============================] - 5s 12ms/step - loss: 0.1993 - accuracy: 0.9380\n",
      "Epoch 4/10\n",
      "410/410 [==============================] - 5s 12ms/step - loss: 0.1506 - accuracy: 0.9509\n",
      "Epoch 5/10\n",
      "410/410 [==============================] - 5s 12ms/step - loss: 0.1164 - accuracy: 0.9632\n",
      "Epoch 6/10\n",
      "410/410 [==============================] - 5s 12ms/step - loss: 0.0895 - accuracy: 0.9709\n",
      "Epoch 7/10\n",
      "410/410 [==============================] - 5s 12ms/step - loss: 0.0660 - accuracy: 0.9789\n",
      "Epoch 8/10\n",
      "410/410 [==============================] - 5s 12ms/step - loss: 0.0551 - accuracy: 0.9798\n",
      "Epoch 9/10\n",
      "410/410 [==============================] - 5s 12ms/step - loss: 0.0501 - accuracy: 0.9845\n",
      "Epoch 10/10\n",
      "410/410 [==============================] - 5s 12ms/step - loss: 0.0406 - accuracy: 0.9864\n"
     ]
    },
    {
     "data": {
      "text/plain": [
       "<keras.callbacks.History at 0x1b8ef53f6a0>"
      ]
     },
     "execution_count": 31,
     "metadata": {},
     "output_type": "execute_result"
    }
   ],
   "source": [
    "model_cnn.fit(X_train, y_train, epochs=10)\n"
   ]
  },
  {
   "cell_type": "code",
   "execution_count": 35,
   "id": "0003982f-ca76-4cc2-9d14-940484d709d9",
   "metadata": {},
   "outputs": [
    {
     "name": "stdout",
     "output_type": "stream",
     "text": [
      "176/176 [==============================] - 1s 5ms/step - loss: 0.3424 - accuracy: 0.9320\n",
      "CPU times: total: 5.95 s\n",
      "Wall time: 935 ms\n"
     ]
    }
   ],
   "source": [
    "%%time\n",
    "score = model_cnn.evaluate(X_test, y_test, verbose=1)\n"
   ]
  },
  {
   "cell_type": "code",
   "execution_count": 16,
   "id": "bb6a20b4-f9df-4229-9541-0a8ec1d27f20",
   "metadata": {},
   "outputs": [],
   "source": []
  },
  {
   "cell_type": "code",
   "execution_count": 17,
   "id": "2e46beec-763d-4df7-9799-10b6f6148931",
   "metadata": {},
   "outputs": [],
   "source": []
  },
  {
   "cell_type": "code",
   "execution_count": null,
   "id": "34258fc2-f6d2-451e-a571-2ae082ac6dc4",
   "metadata": {},
   "outputs": [],
   "source": []
  },
  {
   "cell_type": "code",
   "execution_count": null,
   "id": "aecc45da-3c2d-470e-8271-41fa75bc32c9",
   "metadata": {},
   "outputs": [],
   "source": []
  },
  {
   "cell_type": "code",
   "execution_count": null,
   "id": "b1c26b80-9336-4abe-b1ae-51a6727addc2",
   "metadata": {},
   "outputs": [],
   "source": []
  },
  {
   "cell_type": "code",
   "execution_count": null,
   "id": "141a60cd-2f05-472d-8814-4364efb045c7",
   "metadata": {},
   "outputs": [],
   "source": []
  },
  {
   "cell_type": "code",
   "execution_count": null,
   "id": "263dde4c-63f7-4608-91a0-0417444d9da1",
   "metadata": {},
   "outputs": [],
   "source": []
  },
  {
   "cell_type": "code",
   "execution_count": null,
   "id": "0fab5d12-127e-4a39-93ca-3411fd14d2d5",
   "metadata": {},
   "outputs": [],
   "source": []
  },
  {
   "cell_type": "code",
   "execution_count": null,
   "id": "5626cd6b-1fb9-47bd-90d1-d0a20e224870",
   "metadata": {},
   "outputs": [],
   "source": []
  },
  {
   "cell_type": "code",
   "execution_count": null,
   "id": "d72b9694-56d1-4529-bc6e-58b55548d119",
   "metadata": {},
   "outputs": [],
   "source": []
  }
 ],
 "metadata": {
  "kernelspec": {
   "display_name": "Python 3 (ipykernel)",
   "language": "python",
   "name": "python3"
  },
  "language_info": {
   "codemirror_mode": {
    "name": "ipython",
    "version": 3
   },
   "file_extension": ".py",
   "mimetype": "text/x-python",
   "name": "python",
   "nbconvert_exporter": "python",
   "pygments_lexer": "ipython3",
   "version": "3.10.13"
  }
 },
 "nbformat": 4,
 "nbformat_minor": 5
}
