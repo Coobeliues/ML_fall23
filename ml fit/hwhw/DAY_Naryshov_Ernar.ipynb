{
 "cells": [
  {
   "cell_type": "code",
   "execution_count": 1,
   "id": "68bb031f-1a5d-48f4-8aac-c21e5fe7dca2",
   "metadata": {},
   "outputs": [],
   "source": [
    "import os\n",
    "from glob import glob\n",
    "\n",
    "import numpy as np\n",
    "from imageio import imread\n",
    "from skimage.transform import resize\n",
    "from sklearn.model_selection import train_test_split\n",
    "\n",
    "\n",
    "def load_notmnist(path='./notMNIST_small', letters='ABCDEFGHIJ',\n",
    "                  img_shape=(28, 28), test_size=0.25, one_hot=False):\n",
    "    # download data if it's missing. If you have any problems, go to the urls\n",
    "    # and load it manually.\n",
    "    if not os.path.exists(path):\n",
    "        print(\"Downloading data...\")\n",
    "        assert os.system(\n",
    "            'wget http://yaroslavvb.com/upload/notMNIST/notMNIST_small.tar.gz') == 0\n",
    "        print(\"Extracting ...\")\n",
    "        assert os.system(\n",
    "            'tar -zxvf notMNIST_small.tar.gz > untar_notmnist.log') == 0\n",
    "\n",
    "    data, labels = [], []\n",
    "    print(\"Parsing...\")\n",
    "    for img_path in glob(os.path.join(path, '*/*')):\n",
    "        class_i = img_path.split(os.sep)[-2]\n",
    "        if class_i not in letters:\n",
    "            continue\n",
    "        try:\n",
    "            data.append(resize(imread(img_path), img_shape))\n",
    "            labels.append(class_i,)\n",
    "        except BaseException:\n",
    "            print(\n",
    "                \"found broken img: %s [it's ok if <10 images are broken]\" %\n",
    "                img_path)\n",
    "\n",
    "    data = np.stack(data)[:, None].astype('float32')\n",
    "    data = (data - np.mean(data)) / np.std(data)\n",
    "\n",
    "    # convert classes to ints\n",
    "    letter_to_i = {l: i for i, l in enumerate(letters)}\n",
    "    labels = np.array(list(map(letter_to_i.get, labels)))\n",
    "\n",
    "    if one_hot:\n",
    "        labels = (np.arange(np.max(labels) + 1)\n",
    "                  [None, :] == labels[:, None]).astype('float32')\n",
    "\n",
    "    # split into train/test\n",
    "    X_train, X_test, y_train, y_test = train_test_split(\n",
    "        data, labels, test_size=test_size, random_state=42)\n",
    "\n",
    "    print(\"Done\")\n",
    "    return X_train, y_train, X_test, y_test"
   ]
  },
  {
   "cell_type": "code",
   "execution_count": 2,
   "id": "f995f636-0614-42a2-bc06-37ff05db8a58",
   "metadata": {},
   "outputs": [
    {
     "name": "stdout",
     "output_type": "stream",
     "text": [
      "Downloading data...\n"
     ]
    },
    {
     "ename": "AssertionError",
     "evalue": "",
     "output_type": "error",
     "traceback": [
      "\u001b[1;31m---------------------------------------------------------------------------\u001b[0m",
      "\u001b[1;31mAssertionError\u001b[0m                            Traceback (most recent call last)",
      "File \u001b[1;32m<timed exec>:1\u001b[0m\n",
      "Cell \u001b[1;32mIn[1], line 16\u001b[0m, in \u001b[0;36mload_notmnist\u001b[1;34m(path, letters, img_shape, test_size, one_hot)\u001b[0m\n\u001b[0;32m     14\u001b[0m \u001b[38;5;28;01mif\u001b[39;00m \u001b[38;5;129;01mnot\u001b[39;00m os\u001b[38;5;241m.\u001b[39mpath\u001b[38;5;241m.\u001b[39mexists(path):\n\u001b[0;32m     15\u001b[0m     \u001b[38;5;28mprint\u001b[39m(\u001b[38;5;124m\"\u001b[39m\u001b[38;5;124mDownloading data...\u001b[39m\u001b[38;5;124m\"\u001b[39m)\n\u001b[1;32m---> 16\u001b[0m     \u001b[38;5;28;01massert\u001b[39;00m os\u001b[38;5;241m.\u001b[39msystem(\n\u001b[0;32m     17\u001b[0m         \u001b[38;5;124m'\u001b[39m\u001b[38;5;124mwget http://yaroslavvb.com/upload/notMNIST/notMNIST_small.tar.gz\u001b[39m\u001b[38;5;124m'\u001b[39m) \u001b[38;5;241m==\u001b[39m \u001b[38;5;241m0\u001b[39m\n\u001b[0;32m     18\u001b[0m     \u001b[38;5;28mprint\u001b[39m(\u001b[38;5;124m\"\u001b[39m\u001b[38;5;124mExtracting ...\u001b[39m\u001b[38;5;124m\"\u001b[39m)\n\u001b[0;32m     19\u001b[0m     \u001b[38;5;28;01massert\u001b[39;00m os\u001b[38;5;241m.\u001b[39msystem(\n\u001b[0;32m     20\u001b[0m         \u001b[38;5;124m'\u001b[39m\u001b[38;5;124mtar -zxvf notMNIST_small.tar.gz > untar_notmnist.log\u001b[39m\u001b[38;5;124m'\u001b[39m) \u001b[38;5;241m==\u001b[39m \u001b[38;5;241m0\u001b[39m\n",
      "\u001b[1;31mAssertionError\u001b[0m: "
     ]
    }
   ],
   "source": [
    "%%time\n",
    "X_train, y_train, X_test, y_test = load_notmnist(letters='ABCDEFGHIJ')\n",
    "X_train, X_test = X_train.reshape([-1, 784]), X_test.reshape([-1, 784])"
   ]
  },
  {
   "cell_type": "code",
   "execution_count": 13,
   "id": "2de3ef67-b6d7-424f-b644-bb3346da8f39",
   "metadata": {},
   "outputs": [],
   "source": []
  },
  {
   "cell_type": "code",
   "execution_count": null,
   "id": "2905a8d5-9e66-43f6-9045-afc6ffbcfa85",
   "metadata": {},
   "outputs": [],
   "source": []
  },
  {
   "cell_type": "code",
   "execution_count": null,
   "id": "554a3bf6-1427-444b-b726-d10a189909e0",
   "metadata": {},
   "outputs": [],
   "source": []
  },
  {
   "cell_type": "code",
   "execution_count": null,
   "id": "f76c516b-af0b-43ab-81da-c75a0338b5a0",
   "metadata": {},
   "outputs": [],
   "source": []
  },
  {
   "cell_type": "code",
   "execution_count": null,
   "id": "64ea6e08-656c-455d-90d2-62a1e6096973",
   "metadata": {},
   "outputs": [],
   "source": []
  },
  {
   "cell_type": "code",
   "execution_count": null,
   "id": "9b91c3f7-f669-484f-806e-e00311c64b70",
   "metadata": {},
   "outputs": [],
   "source": []
  },
  {
   "cell_type": "code",
   "execution_count": null,
   "id": "a3d37e7f-f057-4609-8d0f-23d6796e3767",
   "metadata": {},
   "outputs": [],
   "source": []
  },
  {
   "cell_type": "code",
   "execution_count": null,
   "id": "cce6c74f-a8a0-47e7-8bc6-80de6cf1c69c",
   "metadata": {},
   "outputs": [],
   "source": []
  },
  {
   "cell_type": "code",
   "execution_count": null,
   "id": "33103d4c-8893-4fcb-b17e-9fac38159e78",
   "metadata": {},
   "outputs": [],
   "source": []
  },
  {
   "cell_type": "code",
   "execution_count": null,
   "id": "41a45287-1088-42dc-96d6-d3cfc62a2dee",
   "metadata": {},
   "outputs": [],
   "source": []
  },
  {
   "cell_type": "code",
   "execution_count": null,
   "id": "3fec9c1e-3198-4c01-bf81-5999df40d16a",
   "metadata": {},
   "outputs": [],
   "source": []
  },
  {
   "cell_type": "code",
   "execution_count": null,
   "id": "2379ae50-c494-4bee-9a8e-19bef1ab3082",
   "metadata": {},
   "outputs": [],
   "source": []
  },
  {
   "cell_type": "code",
   "execution_count": null,
   "id": "e344ef21-e870-4677-b4f9-7caa76681100",
   "metadata": {},
   "outputs": [],
   "source": []
  },
  {
   "cell_type": "code",
   "execution_count": null,
   "id": "5993ab59-deac-4fb7-8bd8-299eab39bf7c",
   "metadata": {},
   "outputs": [],
   "source": []
  },
  {
   "cell_type": "code",
   "execution_count": null,
   "id": "96d048a1-04fb-4245-a7db-1d8dea2bb4de",
   "metadata": {},
   "outputs": [],
   "source": []
  },
  {
   "cell_type": "code",
   "execution_count": null,
   "id": "4bd1e7a1-46c5-423f-9a85-c26bb5db6664",
   "metadata": {},
   "outputs": [],
   "source": []
  },
  {
   "cell_type": "code",
   "execution_count": null,
   "id": "7913ca63-b19f-4b64-ad9c-7ab97aa29315",
   "metadata": {},
   "outputs": [],
   "source": []
  }
 ],
 "metadata": {
  "kernelspec": {
   "display_name": "Python 3 (ipykernel)",
   "language": "python",
   "name": "python3"
  },
  "language_info": {
   "codemirror_mode": {
    "name": "ipython",
    "version": 3
   },
   "file_extension": ".py",
   "mimetype": "text/x-python",
   "name": "python",
   "nbconvert_exporter": "python",
   "pygments_lexer": "ipython3",
   "version": "3.10.13"
  }
 },
 "nbformat": 4,
 "nbformat_minor": 5
}
