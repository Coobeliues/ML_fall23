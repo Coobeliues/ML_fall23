{
 "cells": [
  {
   "cell_type": "code",
   "execution_count": 1,
   "id": "b56ebd6a-8279-4d83-af47-ac3a24cbb73f",
   "metadata": {},
   "outputs": [
    {
     "ename": "SyntaxError",
     "evalue": "invalid syntax (2527049874.py, line 1)",
     "output_type": "error",
     "traceback": [
      "\u001b[1;36m  Cell \u001b[1;32mIn[1], line 1\u001b[1;36m\u001b[0m\n\u001b[1;33m    https://www.kaggle.com/datasets/arshid/iris-flower-dataset/code?datasetId=17860&sortBy=voteCount\u001b[0m\n\u001b[1;37m          ^\u001b[0m\n\u001b[1;31mSyntaxError\u001b[0m\u001b[1;31m:\u001b[0m invalid syntax\n"
     ]
    }
   ],
   "source": [
    "https://www.kaggle.com/datasets/arshid/iris-flower-dataset/code?datasetId=17860&sortBy=voteCount\n",
    "\n",
    "https://www.kaggle.com/code/jchen2186/machine-learning-with-iris-dataset\n",
    "\n",
    "https://www.kaggle.com/code/ash316/ml-from-scratch-with-iris"
   ]
  },
  {
   "cell_type": "code",
   "execution_count": null,
   "id": "912fd68a-643f-4375-812f-f96672bdc38f",
   "metadata": {},
   "outputs": [],
   "source": []
  }
 ],
 "metadata": {
  "kernelspec": {
   "display_name": "Python 3 (ipykernel)",
   "language": "python",
   "name": "python3"
  },
  "language_info": {
   "codemirror_mode": {
    "name": "ipython",
    "version": 3
   },
   "file_extension": ".py",
   "mimetype": "text/x-python",
   "name": "python",
   "nbconvert_exporter": "python",
   "pygments_lexer": "ipython3",
   "version": "3.10.13"
  }
 },
 "nbformat": 4,
 "nbformat_minor": 5
}
