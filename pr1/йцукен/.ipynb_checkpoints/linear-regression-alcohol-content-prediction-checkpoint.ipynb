{
 "cells": [
  {
   "cell_type": "code",
   "execution_count": 1,
   "id": "according-alarm",
   "metadata": {
    "_cell_guid": "b1076dfc-b9ad-4769-8c92-a6c4dae69d19",
    "_uuid": "8f2839f25d086af736a60e9eeb907d3b93b6e0e5",
    "execution": {
     "iopub.execute_input": "2021-08-18T08:48:22.889610Z",
     "iopub.status.busy": "2021-08-18T08:48:22.889015Z",
     "iopub.status.idle": "2021-08-18T08:48:24.704231Z",
     "shell.execute_reply": "2021-08-18T08:48:24.704675Z",
     "shell.execute_reply.started": "2021-08-18T08:47:49.602169Z"
    },
    "papermill": {
     "duration": 1.85975,
     "end_time": "2021-08-18T08:48:24.704979",
     "exception": false,
     "start_time": "2021-08-18T08:48:22.845229",
     "status": "completed"
    },
    "tags": []
   },
   "outputs": [
    {
     "name": "stdout",
     "output_type": "stream",
     "text": [
      "/kaggle/input/red-wine-quality-cortez-et-al-2009/winequality-red.csv\n"
     ]
    }
   ],
   "source": [
    "# This Python 3 environment comes with many helpful analytics libraries installed\n",
    "# It is defined by the kaggle/python Docker image: https://github.com/kaggle/docker-python\n",
    "# For example, here's several helpful packages to load\n",
    "\n",
    "import numpy as np # linear algebra\n",
    "import pandas as pd # data processing, CSV file I/O (e.g. pd.read_csv)\n",
    "\n",
    "# Input data files are available in the read-only \"../input/\" directory\n",
    "# For example, running this (by clicking run or pressing Shift+Enter) will list all files under the input directory\n",
    "\n",
    "import os\n",
    "for dirname, _, filenames in os.walk('/kaggle/input'):\n",
    "    for filename in filenames:\n",
    "        print(os.path.join(dirname, filename))\n",
    "\n",
    "# You can write up to 20GB to the current directory (/kaggle/working/) that gets preserved as output when you create a version using \"Save & Run All\" \n",
    "# You can also write temporary files to /kaggle/temp/, but they won't be saved outside of the current session\n",
    "import matplotlib.pyplot as plt\n",
    "import seaborn as sns\n",
    "import missingno as msno\n",
    "from scipy import stats\n",
    "from sklearn.linear_model import LinearRegression\n",
    "from sklearn.metrics import r2_score, mean_squared_error, mean_absolute_error, accuracy_score\n",
    "from scipy.stats import shapiro\n",
    "from sklearn.model_selection import cross_val_score\n",
    "from statsmodels.stats.outliers_influence import variance_inflation_factor\n",
    "from sklearn.model_selection import train_test_split\n",
    "from statsmodels.stats.diagnostic import normal_ad, het_breuschpagan\n",
    "import statsmodels.api as sm\n",
    "from sklearn.preprocessing import minmax_scale\n",
    "\n",
    "%matplotlib inline\n",
    "\n",
    "import warnings\n",
    "warnings.filterwarnings('ignore')"
   ]
  },
  {
   "cell_type": "markdown",
   "id": "outstanding-perth",
   "metadata": {
    "papermill": {
     "duration": 0.028138,
     "end_time": "2021-08-18T08:48:24.762391",
     "exception": false,
     "start_time": "2021-08-18T08:48:24.734253",
     "status": "completed"
    },
    "tags": []
   },
   "source": [
    "<div class=\"alert alert-block alert-info\"><strong>Content</strong></div>\n",
    "<div class=\"list-group\">\n",
    "    <a class=\"list-group-item list-group-item-action\" href=\"#ds\">The Dataset</a>\n",
    "    <a class=\"list-group-item list-group-item-action\" href=\"#mda\">Missing Data Aanalysis</a>\n",
    "    <a class=\"list-group-item list-group-item-action\" href=\"#out\">Outliers</a>\n",
    "    <a class=\"list-group-item list-group-item-action\" href=\"#asu\">Assumptions</a>\n",
    "    <a class=\"list-group-item list-group-item-action\" href=\"#fsu\">Fix Assumptions</a>\n",
    "    <a class=\"list-group-item list-group-item-action\" href=\"#ols\">Ordinary Least Squares(OLS)</a>\n",
    "    <a class=\"list-group-item list-group-item-action\" href=\"#mtt\">Model Training and Testing</a>\n",
    "    <a class=\"list-group-item list-group-item-action\" href=\"#rf\">References</a>\n",
    "    \n",
    "</div>\n",
    "\n",
    "\n",
    "In this notebook, I'm going to take a different approach and try to find whether there is approximately a linear relationship between Alcohol content and other provided factors. Moreover, try to find how accurately we can predict Alcohol content. \n",
    "\n",
    "Before starting the analysis let me give you a brief introduction about the technique that we are going to use. We are going to use multiple linear regressions and linear Regression is a simple approach for supervised learning. In particular, Linear Regression is a useful tool for prediction a quantitavie response. Linear Regression can be perfomed as a Simple Linear Regression or Multiple Linear Regression. Both simple and multiple linear regressions assume that there is approximately a linear relationship between the inputs(X) and the output(Y). The main difference is the number of independent variables that they take as inputs(X). Simple linear regression just takes a single input(X), while multiple linear regression takes multiple inputs(X). Mathamatically we can write multiple linear regression as:\n",
    "\n",
    "$$ Y = W_0 + W_1X_1 + W_2X_2 + ... + W_nX_n $$ \n",
    "\n",
    "I'm not going to discuss more linear regression here, there are plenty of very good articles available so you can check them if you want to gain your knowledge about linear regression. In this task, our output variable (target variable in machine learning or the dependent variable in statistical modeling) is Alcohol content and all other inputs (features in machine learning or independent variables in statistical modeling) are input variables. "
   ]
  },
  {
   "cell_type": "code",
   "execution_count": 2,
   "id": "described-information",
   "metadata": {
    "execution": {
     "iopub.execute_input": "2021-08-18T08:48:24.826606Z",
     "iopub.status.busy": "2021-08-18T08:48:24.826020Z",
     "iopub.status.idle": "2021-08-18T08:48:24.842002Z",
     "shell.execute_reply": "2021-08-18T08:48:24.842423Z",
     "shell.execute_reply.started": "2021-08-18T08:47:51.565547Z"
    },
    "papermill": {
     "duration": 0.049028,
     "end_time": "2021-08-18T08:48:24.842589",
     "exception": false,
     "start_time": "2021-08-18T08:48:24.793561",
     "status": "completed"
    },
    "tags": []
   },
   "outputs": [],
   "source": [
    "df = pd.read_csv('../input/red-wine-quality-cortez-et-al-2009/winequality-red.csv')"
   ]
  },
  {
   "cell_type": "code",
   "execution_count": 3,
   "id": "geological-bulgaria",
   "metadata": {
    "execution": {
     "iopub.execute_input": "2021-08-18T08:48:24.912297Z",
     "iopub.status.busy": "2021-08-18T08:48:24.911686Z",
     "iopub.status.idle": "2021-08-18T08:48:24.933388Z",
     "shell.execute_reply": "2021-08-18T08:48:24.933775Z",
     "shell.execute_reply.started": "2021-08-18T08:47:51.589222Z"
    },
    "papermill": {
     "duration": 0.061861,
     "end_time": "2021-08-18T08:48:24.933958",
     "exception": false,
     "start_time": "2021-08-18T08:48:24.872097",
     "status": "completed"
    },
    "tags": []
   },
   "outputs": [
    {
     "data": {
      "text/html": [
       "<div>\n",
       "<style scoped>\n",
       "    .dataframe tbody tr th:only-of-type {\n",
       "        vertical-align: middle;\n",
       "    }\n",
       "\n",
       "    .dataframe tbody tr th {\n",
       "        vertical-align: top;\n",
       "    }\n",
       "\n",
       "    .dataframe thead th {\n",
       "        text-align: right;\n",
       "    }\n",
       "</style>\n",
       "<table border=\"1\" class=\"dataframe\">\n",
       "  <thead>\n",
       "    <tr style=\"text-align: right;\">\n",
       "      <th></th>\n",
       "      <th>fixed acidity</th>\n",
       "      <th>volatile acidity</th>\n",
       "      <th>citric acid</th>\n",
       "      <th>residual sugar</th>\n",
       "      <th>chlorides</th>\n",
       "      <th>free sulfur dioxide</th>\n",
       "      <th>total sulfur dioxide</th>\n",
       "      <th>density</th>\n",
       "      <th>pH</th>\n",
       "      <th>sulphates</th>\n",
       "      <th>alcohol</th>\n",
       "      <th>quality</th>\n",
       "    </tr>\n",
       "  </thead>\n",
       "  <tbody>\n",
       "    <tr>\n",
       "      <th>0</th>\n",
       "      <td>7.4</td>\n",
       "      <td>0.70</td>\n",
       "      <td>0.00</td>\n",
       "      <td>1.9</td>\n",
       "      <td>0.076</td>\n",
       "      <td>11.0</td>\n",
       "      <td>34.0</td>\n",
       "      <td>0.9978</td>\n",
       "      <td>3.51</td>\n",
       "      <td>0.56</td>\n",
       "      <td>9.4</td>\n",
       "      <td>5</td>\n",
       "    </tr>\n",
       "    <tr>\n",
       "      <th>1</th>\n",
       "      <td>7.8</td>\n",
       "      <td>0.88</td>\n",
       "      <td>0.00</td>\n",
       "      <td>2.6</td>\n",
       "      <td>0.098</td>\n",
       "      <td>25.0</td>\n",
       "      <td>67.0</td>\n",
       "      <td>0.9968</td>\n",
       "      <td>3.20</td>\n",
       "      <td>0.68</td>\n",
       "      <td>9.8</td>\n",
       "      <td>5</td>\n",
       "    </tr>\n",
       "    <tr>\n",
       "      <th>2</th>\n",
       "      <td>7.8</td>\n",
       "      <td>0.76</td>\n",
       "      <td>0.04</td>\n",
       "      <td>2.3</td>\n",
       "      <td>0.092</td>\n",
       "      <td>15.0</td>\n",
       "      <td>54.0</td>\n",
       "      <td>0.9970</td>\n",
       "      <td>3.26</td>\n",
       "      <td>0.65</td>\n",
       "      <td>9.8</td>\n",
       "      <td>5</td>\n",
       "    </tr>\n",
       "    <tr>\n",
       "      <th>3</th>\n",
       "      <td>11.2</td>\n",
       "      <td>0.28</td>\n",
       "      <td>0.56</td>\n",
       "      <td>1.9</td>\n",
       "      <td>0.075</td>\n",
       "      <td>17.0</td>\n",
       "      <td>60.0</td>\n",
       "      <td>0.9980</td>\n",
       "      <td>3.16</td>\n",
       "      <td>0.58</td>\n",
       "      <td>9.8</td>\n",
       "      <td>6</td>\n",
       "    </tr>\n",
       "    <tr>\n",
       "      <th>4</th>\n",
       "      <td>7.4</td>\n",
       "      <td>0.70</td>\n",
       "      <td>0.00</td>\n",
       "      <td>1.9</td>\n",
       "      <td>0.076</td>\n",
       "      <td>11.0</td>\n",
       "      <td>34.0</td>\n",
       "      <td>0.9978</td>\n",
       "      <td>3.51</td>\n",
       "      <td>0.56</td>\n",
       "      <td>9.4</td>\n",
       "      <td>5</td>\n",
       "    </tr>\n",
       "  </tbody>\n",
       "</table>\n",
       "</div>"
      ],
      "text/plain": [
       "   fixed acidity  volatile acidity  citric acid  residual sugar  chlorides  \\\n",
       "0            7.4              0.70         0.00             1.9      0.076   \n",
       "1            7.8              0.88         0.00             2.6      0.098   \n",
       "2            7.8              0.76         0.04             2.3      0.092   \n",
       "3           11.2              0.28         0.56             1.9      0.075   \n",
       "4            7.4              0.70         0.00             1.9      0.076   \n",
       "\n",
       "   free sulfur dioxide  total sulfur dioxide  density    pH  sulphates  \\\n",
       "0                 11.0                  34.0   0.9978  3.51       0.56   \n",
       "1                 25.0                  67.0   0.9968  3.20       0.68   \n",
       "2                 15.0                  54.0   0.9970  3.26       0.65   \n",
       "3                 17.0                  60.0   0.9980  3.16       0.58   \n",
       "4                 11.0                  34.0   0.9978  3.51       0.56   \n",
       "\n",
       "   alcohol  quality  \n",
       "0      9.4        5  \n",
       "1      9.8        5  \n",
       "2      9.8        5  \n",
       "3      9.8        6  \n",
       "4      9.4        5  "
      ]
     },
     "execution_count": 3,
     "metadata": {},
     "output_type": "execute_result"
    }
   ],
   "source": [
    "df.head()"
   ]
  },
  {
   "cell_type": "code",
   "execution_count": 4,
   "id": "extensive-antibody",
   "metadata": {
    "execution": {
     "iopub.execute_input": "2021-08-18T08:48:25.009435Z",
     "iopub.status.busy": "2021-08-18T08:48:24.997128Z",
     "iopub.status.idle": "2021-08-18T08:48:25.012964Z",
     "shell.execute_reply": "2021-08-18T08:48:25.013400Z",
     "shell.execute_reply.started": "2021-08-18T08:47:51.626977Z"
    },
    "papermill": {
     "duration": 0.050954,
     "end_time": "2021-08-18T08:48:25.013554",
     "exception": false,
     "start_time": "2021-08-18T08:48:24.962600",
     "status": "completed"
    },
    "tags": []
   },
   "outputs": [
    {
     "name": "stdout",
     "output_type": "stream",
     "text": [
      "<class 'pandas.core.frame.DataFrame'>\n",
      "RangeIndex: 1599 entries, 0 to 1598\n",
      "Data columns (total 12 columns):\n",
      " #   Column                Non-Null Count  Dtype  \n",
      "---  ------                --------------  -----  \n",
      " 0   fixed acidity         1599 non-null   float64\n",
      " 1   volatile acidity      1599 non-null   float64\n",
      " 2   citric acid           1599 non-null   float64\n",
      " 3   residual sugar        1599 non-null   float64\n",
      " 4   chlorides             1599 non-null   float64\n",
      " 5   free sulfur dioxide   1599 non-null   float64\n",
      " 6   total sulfur dioxide  1599 non-null   float64\n",
      " 7   density               1599 non-null   float64\n",
      " 8   pH                    1599 non-null   float64\n",
      " 9   sulphates             1599 non-null   float64\n",
      " 10  alcohol               1599 non-null   float64\n",
      " 11  quality               1599 non-null   int64  \n",
      "dtypes: float64(11), int64(1)\n",
      "memory usage: 150.0 KB\n"
     ]
    }
   ],
   "source": [
    "df.info()"
   ]
  },
  {
   "cell_type": "markdown",
   "id": "perfect-ghana",
   "metadata": {
    "papermill": {
     "duration": 0.029501,
     "end_time": "2021-08-18T08:48:25.071814",
     "exception": false,
     "start_time": "2021-08-18T08:48:25.042313",
     "status": "completed"
    },
    "tags": []
   },
   "source": [
    "Let's understand the dataset, dataset contains 1599 samples and 12 variables including the target variable. We can see that 11 variables are numerical and 1 variable is ordinal.\n",
    "\n",
    "<div class=\"alert alert-block alert-success\" id='ds'><strong>The Dataset</strong></div>\n",
    "\n",
    "* fixed acidity: most acids involved with wine or fixed or nonvolatile (do not evaporate readily)\n",
    "* volatile acidity: the amount of acetic acid in wine, which at too high of levels can lead to an unpleasant, vinegar taste\n",
    "* citric acid: found in small quantities, citric acid can add ‘freshness’ and flavor to wines\n",
    "* residual sugar: the amount of sugar remaining after fermentation stops, it’s rare to find wines with less than 1 gram/liter and wines with greater than 45 grams/liter are considered sweet\n",
    "* chlorides: the amount of salt in the wine\n",
    "* free sulfur dioxide: the free form of SO2 exists in equilibrium between molecular SO2 (as a dissolved gas) and bisulfite ion; it prevents microbial growth and the oxidation of wine\n",
    "* total sulfur dioxide: amount of free and bound forms of S02; in low concentrations, SO2 is mostly undetectable in wine, but at free SO2 concentrations over 50 ppm, SO2 becomes evident in the nose and taste of wine\n",
    "* density: the density of water is close to that of water depending on the percent alcohol and sugar content\n",
    "* pH: describes how acidic or basic a wine is on a scale from 0 (very acidic) to 14 (very basic); most wines are between 3-4 on the pH scale\n",
    "* sulphates: a wine additive which can contribute to sulfur dioxide gas (S02) levels, wich acts as an antimicrobial and antioxidant\n",
    "* quality: score between 0 and 10\n",
    "* alcohol: the percent alcohol content of the wine - output varaible \n",
    "\n",
    "Ok, now we have some idea about the data. Let's see if there are any missing values in the data.\n",
    "\n",
    "<div class=\"alert alert-block alert-success\" id='mda'><strong>Missing Data Aanalysis</strong></div>"
   ]
  },
  {
   "cell_type": "code",
   "execution_count": 5,
   "id": "logical-fraction",
   "metadata": {
    "execution": {
     "iopub.execute_input": "2021-08-18T08:48:25.135290Z",
     "iopub.status.busy": "2021-08-18T08:48:25.134469Z",
     "iopub.status.idle": "2021-08-18T08:48:25.626562Z",
     "shell.execute_reply": "2021-08-18T08:48:25.626110Z",
     "shell.execute_reply.started": "2021-08-18T08:47:51.650138Z"
    },
    "papermill": {
     "duration": 0.526201,
     "end_time": "2021-08-18T08:48:25.626709",
     "exception": false,
     "start_time": "2021-08-18T08:48:25.100508",
     "status": "completed"
    },
    "tags": []
   },
   "outputs": [
    {
     "data": {
      "text/plain": [
       "<AxesSubplot:>"
      ]
     },
     "execution_count": 5,
     "metadata": {},
     "output_type": "execute_result"
    },
    {
     "data": {
      "image/png": "[encoded data removed]",
      "text/plain": [
       "<Figure size 1800x720 with 2 Axes>"
      ]
     },
     "metadata": {
      "needs_background": "light"
     },
     "output_type": "display_data"
    }
   ],
   "source": [
    "msno.matrix(df)"
   ]
  },
  {
   "cell_type": "markdown",
   "id": "charged-universe",
   "metadata": {
    "papermill": {
     "duration": 0.02996,
     "end_time": "2021-08-18T08:48:25.687611",
     "exception": false,
     "start_time": "2021-08-18T08:48:25.657651",
     "status": "completed"
    },
    "tags": []
   },
   "source": [
    "There are no missing data available on the dataset. The next most important thing is to test linear regression assumptions. If the assumptions are not satisfied, the interpretation of the results will not always be valid. This can be very dangerous depending on the application.\n",
    "\n",
    "<div class=\"alert alert-block alert-success\" id='out'><strong>Outliers</strong></div>\n",
    "\n",
    "> In statistics, an outlier is an observation point that is distant from other observations. - Wikipedia\n",
    "\n",
    "Outliers should be investigated carefully. Often they contain valuable information about the process under investigation or the data gathering and recording process. Before considering the possible elimination of these points from the data, one should try to understand why they appeared and whether it is likely similar values will continue to appear. Of course, outliers are often bad data points.  We can use a box plot to see the outliers graphically."
   ]
  },
  {
   "cell_type": "code",
   "execution_count": 6,
   "id": "general-capability",
   "metadata": {
    "execution": {
     "iopub.execute_input": "2021-08-18T08:48:25.768709Z",
     "iopub.status.busy": "2021-08-18T08:48:25.761515Z",
     "iopub.status.idle": "2021-08-18T08:48:27.152432Z",
     "shell.execute_reply": "2021-08-18T08:48:27.151969Z",
     "shell.execute_reply.started": "2021-08-18T08:47:52.138872Z"
    },
    "papermill": {
     "duration": 1.434423,
     "end_time": "2021-08-18T08:48:27.152559",
     "exception": false,
     "start_time": "2021-08-18T08:48:25.718136",
     "status": "completed"
    },
    "tags": []
   },
   "outputs": [
    {
     "data": {
      "image/png": "[encoded data removed]",
      "text/plain": [
       "<Figure size 1080x1080 with 12 Axes>"
      ]
     },
     "metadata": {
      "needs_background": "light"
     },
     "output_type": "display_data"
    }
   ],
   "source": [
    "def plotBoxplot(data):\n",
    "    fig, axes = plt.subplots(ncols=3, nrows=4, figsize=(15,15))\n",
    "    fig.tight_layout(pad=4.0)\n",
    "\n",
    "    col = 0\n",
    "    row = 0\n",
    "    colors = ['#bad9e9', '#7ab6d6', '#3c8abd']\n",
    "\n",
    "    for i, column in enumerate(data.columns):\n",
    "        sns.boxplot(y=column, data=data, ax=axes[row][col], color=colors[col])\n",
    "\n",
    "        if (i + 1) % 3 == 0:\n",
    "            row += 1\n",
    "            col = 0\n",
    "        else:\n",
    "            col += 1\n",
    "            \n",
    "plotBoxplot(df)"
   ]
  },
  {
   "cell_type": "markdown",
   "id": "written-marriage",
   "metadata": {
    "papermill": {
     "duration": 0.033056,
     "end_time": "2021-08-18T08:48:27.219895",
     "exception": false,
     "start_time": "2021-08-18T08:48:27.186839",
     "status": "completed"
    },
    "tags": []
   },
   "source": [
    "Box plot use the Inter Quartile Range(IQR) to display data and outliers(shape of the data) but in order to be get a list of identified outlier, we have to calculate IQR.\n",
    "\n",
    "> The interquartile range (IQR), also called the midspread or middle 50%, or technically H-spread, is a measure of statistical dispersion, being equal to the difference between 75th and 25th percentiles, or between upper and lower quartiles, IQR = Q3 − Q1. - Wikipedia\n"
   ]
  },
  {
   "cell_type": "code",
   "execution_count": 7,
   "id": "about-headquarters",
   "metadata": {
    "execution": {
     "iopub.execute_input": "2021-08-18T08:48:27.293349Z",
     "iopub.status.busy": "2021-08-18T08:48:27.292393Z",
     "iopub.status.idle": "2021-08-18T08:48:27.313304Z",
     "shell.execute_reply": "2021-08-18T08:48:27.313694Z",
     "shell.execute_reply.started": "2021-08-18T08:47:53.819596Z"
    },
    "papermill": {
     "duration": 0.060349,
     "end_time": "2021-08-18T08:48:27.313859",
     "exception": false,
     "start_time": "2021-08-18T08:48:27.253510",
     "status": "completed"
    },
    "tags": []
   },
   "outputs": [
    {
     "name": "stdout",
     "output_type": "stream",
     "text": [
      "fixed acidity            2.100000\n",
      "volatile acidity         0.250000\n",
      "citric acid              0.330000\n",
      "residual sugar           0.700000\n",
      "chlorides                0.020000\n",
      "free sulfur dioxide     14.000000\n",
      "total sulfur dioxide    40.000000\n",
      "density                  0.002235\n",
      "pH                       0.190000\n",
      "sulphates                0.180000\n",
      "alcohol                  1.600000\n",
      "quality                  1.000000\n",
      "dtype: float64\n"
     ]
    }
   ],
   "source": [
    "Q1 = df.quantile(0.25)\n",
    "Q3 = df.quantile(0.75)\n",
    "IQR = Q3 - Q1\n",
    "\n",
    "print(IQR)"
   ]
  },
  {
   "cell_type": "markdown",
   "id": "interpreted-walker",
   "metadata": {
    "papermill": {
     "duration": 0.03292,
     "end_time": "2021-08-18T08:48:27.382188",
     "exception": false,
     "start_time": "2021-08-18T08:48:27.349268",
     "status": "completed"
    },
    "tags": []
   },
   "source": [
    "As I told earlier, there are different ways to treat outliers such as remove outliers from the dataset, KNN imputation, etc. However, I'm not a domain expert therefore in this scenario, I will remove outliers from the dataset."
   ]
  },
  {
   "cell_type": "code",
   "execution_count": 8,
   "id": "indonesian-palestinian",
   "metadata": {
    "execution": {
     "iopub.execute_input": "2021-08-18T08:48:27.451091Z",
     "iopub.status.busy": "2021-08-18T08:48:27.450519Z",
     "iopub.status.idle": "2021-08-18T08:48:27.463563Z",
     "shell.execute_reply": "2021-08-18T08:48:27.463083Z",
     "shell.execute_reply.started": "2021-08-18T08:47:53.849522Z"
    },
    "papermill": {
     "duration": 0.048407,
     "end_time": "2021-08-18T08:48:27.463690",
     "exception": false,
     "start_time": "2021-08-18T08:48:27.415283",
     "status": "completed"
    },
    "tags": []
   },
   "outputs": [
    {
     "data": {
      "text/plain": [
       "(1179, 12)"
      ]
     },
     "execution_count": 8,
     "metadata": {},
     "output_type": "execute_result"
    }
   ],
   "source": [
    "df = df[~((df < (Q1 - 1.5 * IQR)) | (df > (Q3 + 1.5 * IQR))).any(axis=1)]\n",
    "df.shape"
   ]
  },
  {
   "cell_type": "markdown",
   "id": "swiss-vietnam",
   "metadata": {
    "papermill": {
     "duration": 0.032841,
     "end_time": "2021-08-18T08:48:27.529832",
     "exception": false,
     "start_time": "2021-08-18T08:48:27.496991",
     "status": "completed"
    },
    "tags": []
   },
   "source": [
    "Ok, now it's time to test assumptions. To test the assumption, I'm going to use OLS(Ordinary Least Squares) model from statsmodels. Later, I will use LinearRegression model from sklearn and sklearn -> LinearRegression model also uses the Ordinary Least Squares techique.\n",
    "\n",
    "<div class='alert alert-block alert-success' id='asu'><strong>Assumptions</strong></div>\n",
    "\n",
    "### 1. Linearity\n",
    "\n",
    "This assumes that there is a linear relationship between the independent variables and the dependent variable.\n",
    "\n",
    "**If this assumption is not statified** - The predictions will be extremely inaccurate because our model is underfitting. This is a serious violation that should not be ignored.\n",
    "\n",
    "**How to detect ?** If there is only one independent variable, this is pretty easy to test with a scatter plot. For multiple independent variables, we use a scatter plot to see our predicted values vs the actual values (residuals). The points should lie on or around a diagonal line on the scatter plot."
   ]
  },
  {
   "cell_type": "code",
   "execution_count": 9,
   "id": "entire-olive",
   "metadata": {
    "execution": {
     "iopub.execute_input": "2021-08-18T08:48:27.598812Z",
     "iopub.status.busy": "2021-08-18T08:48:27.598292Z",
     "iopub.status.idle": "2021-08-18T08:48:27.648486Z",
     "shell.execute_reply": "2021-08-18T08:48:27.649757Z",
     "shell.execute_reply.started": "2021-08-18T08:47:53.868385Z"
    },
    "papermill": {
     "duration": 0.087066,
     "end_time": "2021-08-18T08:48:27.650078",
     "exception": false,
     "start_time": "2021-08-18T08:48:27.563012",
     "status": "completed"
    },
    "tags": []
   },
   "outputs": [
    {
     "name": "stdout",
     "output_type": "stream",
     "text": [
      "                            OLS Regression Results                            \n",
      "==============================================================================\n",
      "Dep. Variable:                alcohol   R-squared:                       0.730\n",
      "Model:                            OLS   Adj. R-squared:                  0.727\n",
      "Method:                 Least Squares   F-statistic:                     200.1\n",
      "Date:                Wed, 18 Aug 2021   Prob (F-statistic):          1.19e-222\n",
      "Time:                        08:48:27   Log-Likelihood:                -593.01\n",
      "No. Observations:                 825   AIC:                             1210.\n",
      "Df Residuals:                     813   BIC:                             1267.\n",
      "Df Model:                          11                                         \n",
      "Covariance Type:            nonrobust                                         \n",
      "========================================================================================\n",
      "                           coef    std err          t      P>|t|      [0.025      0.975]\n",
      "----------------------------------------------------------------------------------------\n",
      "const                  598.5620     17.627     33.957      0.000     563.962     633.162\n",
      "fixed acidity            0.4609      0.027     17.250      0.000       0.408       0.513\n",
      "volatile acidity         0.6540      0.154      4.258      0.000       0.353       0.955\n",
      "citric acid              0.7391      0.171      4.326      0.000       0.404       1.074\n",
      "residual sugar           0.7227      0.045     16.239      0.000       0.635       0.810\n",
      "chlorides                0.6030      1.413      0.427      0.670      -2.170       3.376\n",
      "free sulfur dioxide      0.0009      0.003      0.321      0.748      -0.004       0.006\n",
      "total sulfur dioxide    -0.0032      0.001     -3.333      0.001      -0.005      -0.001\n",
      "density               -608.8536     18.078    -33.680      0.000    -644.338    -573.369\n",
      "pH                       3.2929      0.204     16.119      0.000       2.892       3.694\n",
      "sulphates                1.0496      0.174      6.024      0.000       0.708       1.392\n",
      "quality                  0.2045      0.030      6.777      0.000       0.145       0.264\n",
      "==============================================================================\n",
      "Omnibus:                       31.093   Durbin-Watson:                   2.007\n",
      "Prob(Omnibus):                  0.000   Jarque-Bera (JB):               44.372\n",
      "Skew:                           0.345   Prob(JB):                     2.32e-10\n",
      "Kurtosis:                       3.903   Cond. No.                     7.67e+04\n",
      "==============================================================================\n",
      "\n",
      "Notes:\n",
      "[1] Standard Errors assume that the covariance matrix of the errors is correctly specified.\n",
      "[2] The condition number is large, 7.67e+04. This might indicate that there are\n",
      "strong multicollinearity or other numerical problems.\n"
     ]
    }
   ],
   "source": [
    "#create tmp train/test split for assumptions test\n",
    "X = df.drop(['alcohol'], axis=1)\n",
    "y = df['alcohol']\n",
    "\n",
    "X = sm.add_constant(X)\n",
    "x_train, x_test, y_train, y_test = train_test_split(X, y, train_size=0.7, random_state=50)\n",
    "\n",
    "model = sm.OLS(y_train, x_train).fit()\n",
    "print(model.summary())"
   ]
  },
  {
   "cell_type": "code",
   "execution_count": 10,
   "id": "appropriate-dating",
   "metadata": {
    "execution": {
     "iopub.execute_input": "2021-08-18T08:48:27.773942Z",
     "iopub.status.busy": "2021-08-18T08:48:27.773346Z",
     "iopub.status.idle": "2021-08-18T08:48:27.775241Z",
     "shell.execute_reply": "2021-08-18T08:48:27.775674Z",
     "shell.execute_reply.started": "2021-08-18T08:47:53.925954Z"
    },
    "papermill": {
     "duration": 0.056206,
     "end_time": "2021-08-18T08:48:27.775827",
     "exception": false,
     "start_time": "2021-08-18T08:48:27.719621",
     "status": "completed"
    },
    "tags": []
   },
   "outputs": [],
   "source": [
    "y_pred = model.predict(x_test)"
   ]
  },
  {
   "cell_type": "code",
   "execution_count": 11,
   "id": "advised-indication",
   "metadata": {
    "execution": {
     "iopub.execute_input": "2021-08-18T08:48:27.845496Z",
     "iopub.status.busy": "2021-08-18T08:48:27.844933Z",
     "iopub.status.idle": "2021-08-18T08:48:27.999309Z",
     "shell.execute_reply": "2021-08-18T08:48:27.999804Z",
     "shell.execute_reply.started": "2021-08-18T08:47:53.934561Z"
    },
    "papermill": {
     "duration": 0.190725,
     "end_time": "2021-08-18T08:48:27.999996",
     "exception": false,
     "start_time": "2021-08-18T08:48:27.809271",
     "status": "completed"
    },
    "tags": []
   },
   "outputs": [
    {
     "data": {
      "image/png": "[encoded data removed]",
      "text/plain": [
       "<Figure size 432x288 with 1 Axes>"
      ]
     },
     "metadata": {
      "needs_background": "light"
     },
     "output_type": "display_data"
    }
   ],
   "source": [
    "#plot the actual vs predicted values\n",
    "sns.regplot(y_test, y_pred, line_kws={'color':'red'}, ci=None)\n",
    "\n",
    "plt.xlabel('Actual')\n",
    "plt.ylabel('Predictions')\n",
    "plt.title('Prediction vs Actual')\n",
    "\n",
    "plt.show()"
   ]
  },
  {
   "cell_type": "markdown",
   "id": "electronic-publicity",
   "metadata": {
    "papermill": {
     "duration": 0.036135,
     "end_time": "2021-08-18T08:48:28.072108",
     "exception": false,
     "start_time": "2021-08-18T08:48:28.035973",
     "status": "completed"
    },
    "tags": []
   },
   "source": [
    "We can see that predictions are relatively even spread around the diagonal line and this indicates that there is a linear relationship between independent and dependant variables. Ok, let's test the next assumption.\n",
    "\n",
    "### 2. No Multicollinearity among Independant Varaibles\n",
    "\n",
    "This assumes that the independent variables used in the regression are not correlated with each other.\n",
    "\n",
    "**If this assumtions is not satisfied** - coefficients and standard errors of affected varaibles are unreliable.\n",
    "\n",
    "**How to detect ?** There are a few ways such as a heatmap of the correlation or variance inflation factor (VIF)."
   ]
  },
  {
   "cell_type": "code",
   "execution_count": 12,
   "id": "advisory-warrior",
   "metadata": {
    "execution": {
     "iopub.execute_input": "2021-08-18T08:48:28.143672Z",
     "iopub.status.busy": "2021-08-18T08:48:28.143132Z",
     "iopub.status.idle": "2021-08-18T08:48:29.059649Z",
     "shell.execute_reply": "2021-08-18T08:48:29.060101Z",
     "shell.execute_reply.started": "2021-08-18T08:47:54.163167Z"
    },
    "papermill": {
     "duration": 0.953959,
     "end_time": "2021-08-18T08:48:29.060267",
     "exception": false,
     "start_time": "2021-08-18T08:48:28.106308",
     "status": "completed"
    },
    "tags": []
   },
   "outputs": [
    {
     "data": {
      "text/plain": [
       "<AxesSubplot:>"
      ]
     },
     "execution_count": 12,
     "metadata": {},
     "output_type": "execute_result"
    },
    {
     "data": {
      "image/png": "[encoded data removed]",
      "text/plain": [
       "<Figure size 1800x720 with 2 Axes>"
      ]
     },
     "metadata": {
      "needs_background": "light"
     },
     "output_type": "display_data"
    }
   ],
   "source": [
    "plt.figure(figsize=(25, 10))\n",
    "sns.heatmap(df.loc[:, df.columns != 'alcohol'].corr(), annot=True, fmt='.2f')"
   ]
  },
  {
   "cell_type": "code",
   "execution_count": 13,
   "id": "derived-allowance",
   "metadata": {
    "execution": {
     "iopub.execute_input": "2021-08-18T08:48:29.138448Z",
     "iopub.status.busy": "2021-08-18T08:48:29.137835Z",
     "iopub.status.idle": "2021-08-18T08:48:29.192046Z",
     "shell.execute_reply": "2021-08-18T08:48:29.192728Z",
     "shell.execute_reply.started": "2021-08-18T08:47:55.194908Z"
    },
    "papermill": {
     "duration": 0.094504,
     "end_time": "2021-08-18T08:48:29.192997",
     "exception": false,
     "start_time": "2021-08-18T08:48:29.098493",
     "status": "completed"
    },
    "tags": []
   },
   "outputs": [
    {
     "data": {
      "text/html": [
       "<div>\n",
       "<style scoped>\n",
       "    .dataframe tbody tr th:only-of-type {\n",
       "        vertical-align: middle;\n",
       "    }\n",
       "\n",
       "    .dataframe tbody tr th {\n",
       "        vertical-align: top;\n",
       "    }\n",
       "\n",
       "    .dataframe thead th {\n",
       "        text-align: right;\n",
       "    }\n",
       "</style>\n",
       "<table border=\"1\" class=\"dataframe\">\n",
       "  <thead>\n",
       "    <tr style=\"text-align: right;\">\n",
       "      <th></th>\n",
       "      <th>variables</th>\n",
       "      <th>VIF</th>\n",
       "    </tr>\n",
       "  </thead>\n",
       "  <tbody>\n",
       "    <tr>\n",
       "      <th>0</th>\n",
       "      <td>fixed acidity</td>\n",
       "      <td>103.676362</td>\n",
       "    </tr>\n",
       "    <tr>\n",
       "      <th>1</th>\n",
       "      <td>volatile acidity</td>\n",
       "      <td>22.758583</td>\n",
       "    </tr>\n",
       "    <tr>\n",
       "      <th>2</th>\n",
       "      <td>citric acid</td>\n",
       "      <td>8.736119</td>\n",
       "    </tr>\n",
       "    <tr>\n",
       "      <th>3</th>\n",
       "      <td>residual sugar</td>\n",
       "      <td>30.380565</td>\n",
       "    </tr>\n",
       "    <tr>\n",
       "      <th>4</th>\n",
       "      <td>chlorides</td>\n",
       "      <td>36.855001</td>\n",
       "    </tr>\n",
       "    <tr>\n",
       "      <th>5</th>\n",
       "      <td>free sulfur dioxide</td>\n",
       "      <td>7.091457</td>\n",
       "    </tr>\n",
       "    <tr>\n",
       "      <th>6</th>\n",
       "      <td>total sulfur dioxide</td>\n",
       "      <td>7.151541</td>\n",
       "    </tr>\n",
       "    <tr>\n",
       "      <th>7</th>\n",
       "      <td>density</td>\n",
       "      <td>1925.456437</td>\n",
       "    </tr>\n",
       "    <tr>\n",
       "      <th>8</th>\n",
       "      <td>pH</td>\n",
       "      <td>1360.913086</td>\n",
       "    </tr>\n",
       "    <tr>\n",
       "      <th>9</th>\n",
       "      <td>sulphates</td>\n",
       "      <td>41.028948</td>\n",
       "    </tr>\n",
       "    <tr>\n",
       "      <th>10</th>\n",
       "      <td>quality</td>\n",
       "      <td>84.559452</td>\n",
       "    </tr>\n",
       "  </tbody>\n",
       "</table>\n",
       "</div>"
      ],
      "text/plain": [
       "               variables          VIF\n",
       "0          fixed acidity   103.676362\n",
       "1       volatile acidity    22.758583\n",
       "2            citric acid     8.736119\n",
       "3         residual sugar    30.380565\n",
       "4              chlorides    36.855001\n",
       "5    free sulfur dioxide     7.091457\n",
       "6   total sulfur dioxide     7.151541\n",
       "7                density  1925.456437\n",
       "8                     pH  1360.913086\n",
       "9              sulphates    41.028948\n",
       "10               quality    84.559452"
      ]
     },
     "execution_count": 13,
     "metadata": {},
     "output_type": "execute_result"
    }
   ],
   "source": [
    "def calVIF(X):\n",
    "    vif = pd.DataFrame()\n",
    "    vif['variables'] = X.columns\n",
    "    vif['VIF'] = [variance_inflation_factor(X.values, i) for i in range(len(X.columns))]\n",
    "\n",
    "    return vif\n",
    "\n",
    "calVIF(df.loc[:, df.columns != 'alcohol'])"
   ]
  },
  {
   "cell_type": "markdown",
   "id": "direct-scottish",
   "metadata": {
    "papermill": {
     "duration": 0.053476,
     "end_time": "2021-08-18T08:48:29.318111",
     "exception": false,
     "start_time": "2021-08-18T08:48:29.264635",
     "status": "completed"
    },
    "tags": []
   },
   "source": [
    "We can see that there are some high correlated variables such as density, pH, and fixed acidity. To fix multicollinearity, we can remove highly correlated variables(with a high variance inflation factor). Let's go to the next assumption.\n",
    "\n",
    "### 3. Homoscedasticity\n",
    "\n",
    "This assumes that the same variance within our error terms (no Heteroscedasticity).\n",
    "\n",
    "**If this assumption is not satisfied** - standard errors in output cannot be relied upon.\n",
    "\n",
    "**How to detect ?** conduct Breusch-Pagan test or Goldfeld-Quandt test."
   ]
  },
  {
   "cell_type": "code",
   "execution_count": 14,
   "id": "czech-status",
   "metadata": {
    "execution": {
     "iopub.execute_input": "2021-08-18T08:48:29.397762Z",
     "iopub.status.busy": "2021-08-18T08:48:29.396794Z",
     "iopub.status.idle": "2021-08-18T08:48:29.406989Z",
     "shell.execute_reply": "2021-08-18T08:48:29.408327Z",
     "shell.execute_reply.started": "2021-08-18T08:47:55.245376Z"
    },
    "papermill": {
     "duration": 0.053198,
     "end_time": "2021-08-18T08:48:29.408657",
     "exception": false,
     "start_time": "2021-08-18T08:48:29.355459",
     "status": "completed"
    },
    "tags": []
   },
   "outputs": [
    {
     "name": "stdout",
     "output_type": "stream",
     "text": [
      "Lagrange multiplier statistic: 58.97502740241391 and p-value: 1.4364894018407104e-08\n"
     ]
    }
   ],
   "source": [
    "#Breusch-Pagan test\n",
    "bp = het_breuschpagan(model.resid, model.model.exog)\n",
    "print('Lagrange multiplier statistic: {0} and p-value: {1}'.format(bp[0], bp[1]))"
   ]
  },
  {
   "cell_type": "markdown",
   "id": "large-devon",
   "metadata": {
    "papermill": {
     "duration": 0.057125,
     "end_time": "2021-08-18T08:48:29.537821",
     "exception": false,
     "start_time": "2021-08-18T08:48:29.480696",
     "status": "completed"
    },
    "tags": []
   },
   "source": [
    "According to the results of the Breusch-Pagan test, we can see that the Lagrange multiplier statistic for the test is 302.83 and the corresponding p-value is 3.91. And hypotheses of this test are:\n",
    "\n",
    "* H0: Homoscedasticity is present\n",
    "* H1: Homoscedasticity is not present (i.e. heteroscedasticity exists)\n",
    "\n",
    "Because this p-value is not less than 0.05, we fail to reject the null hypothesis. Therefore, we do not have sufficient evidence to say that heteroscedasticity is present in the regression model.\n",
    "\n",
    "### 4. Normality of the Error Terms\n",
    "\n",
    "This assumes that the error terms of the model are normally distributed.\n",
    "\n",
    "**If this assumption is not satisfied** - violation of this assumption could affect standard errors in the output.\n",
    "\n",
    "**How to detect ?** There are different ways to do so, histogram or Q-Q plot, Shapiro-Wilk test, Kolmogorov-Smirnov, and the Anderson-Darling test for normality."
   ]
  },
  {
   "cell_type": "code",
   "execution_count": 15,
   "id": "popular-orientation",
   "metadata": {
    "execution": {
     "iopub.execute_input": "2021-08-18T08:48:29.636516Z",
     "iopub.status.busy": "2021-08-18T08:48:29.634754Z",
     "iopub.status.idle": "2021-08-18T08:48:29.793166Z",
     "shell.execute_reply": "2021-08-18T08:48:29.792653Z",
     "shell.execute_reply.started": "2021-08-18T08:47:55.260230Z"
    },
    "papermill": {
     "duration": 0.217718,
     "end_time": "2021-08-18T08:48:29.793302",
     "exception": false,
     "start_time": "2021-08-18T08:48:29.575584",
     "status": "completed"
    },
    "tags": []
   },
   "outputs": [
    {
     "data": {
      "image/png": "[encoded data removed]",
      "text/plain": [
       "<Figure size 432x288 with 1 Axes>"
      ]
     },
     "metadata": {
      "needs_background": "light"
     },
     "output_type": "display_data"
    }
   ],
   "source": [
    "plt.title('Distribution of Residuals')\n",
    "sns.distplot(model.resid)\n",
    "plt.show()"
   ]
  },
  {
   "cell_type": "markdown",
   "id": "portuguese-firewall",
   "metadata": {
    "papermill": {
     "duration": 0.038469,
     "end_time": "2021-08-18T08:48:29.870609",
     "exception": false,
     "start_time": "2021-08-18T08:48:29.832140",
     "status": "completed"
    },
    "tags": []
   },
   "source": [
    "To further clarify this, we can do the Anderson-Darling test. Hypotheses for the Anderson-Darling test for the normal distribution are given below:\n",
    "\n",
    "* H0: The data follows the normal distribution\n",
    "* H1: The data do not follow the normal distribution"
   ]
  },
  {
   "cell_type": "code",
   "execution_count": 16,
   "id": "religious-maple",
   "metadata": {
    "execution": {
     "iopub.execute_input": "2021-08-18T08:48:29.954305Z",
     "iopub.status.busy": "2021-08-18T08:48:29.953442Z",
     "iopub.status.idle": "2021-08-18T08:48:29.958425Z",
     "shell.execute_reply": "2021-08-18T08:48:29.959120Z",
     "shell.execute_reply.started": "2021-08-18T08:47:55.510385Z"
    },
    "papermill": {
     "duration": 0.050115,
     "end_time": "2021-08-18T08:48:29.959364",
     "exception": false,
     "start_time": "2021-08-18T08:48:29.909249",
     "status": "completed"
    },
    "tags": []
   },
   "outputs": [
    {
     "name": "stdout",
     "output_type": "stream",
     "text": [
      "p-value from the test: 3.2140366448614515e-07\n",
      "Residuals are not normally distributed\n"
     ]
    }
   ],
   "source": [
    "#Anderson-Darling test\n",
    "def normalityError(residuals):\n",
    "    p_value = normal_ad(residuals)[1]\n",
    "\n",
    "    print('p-value from the test:', p_value)\n",
    "\n",
    "    if p_value < 0.05:\n",
    "        print('Residuals are not normally distributed')\n",
    "    else:\n",
    "        print('Residuals are normally distributed')\n",
    "        \n",
    "normalityError(model.resid)"
   ]
  },
  {
   "cell_type": "markdown",
   "id": "human-concentrate",
   "metadata": {
    "papermill": {
     "duration": 0.038447,
     "end_time": "2021-08-18T08:48:30.037344",
     "exception": false,
     "start_time": "2021-08-18T08:48:29.998897",
     "status": "completed"
    },
    "tags": []
   },
   "source": [
    "Even though the histogram looks normally distributed, the Anderson-Darling test suggests that residuals are not normally distributed. To fix this we can apply nonlinear transformations, excluding specific variables (such as long-tailed variables), or removing outliers. Based on the assumption test, we can see that there are two violations.\n",
    "\n",
    "1. Multicollinearity\n",
    "2. Normality of the Error Terms\n",
    "\n",
    "Therefore, let's fix those violations.\n",
    "\n",
    "<div class='alert alert-block alert-success' id='fsu'><strong>Fix Assumptions</strong></div>\n",
    "\n",
    "### 1. Fix Multicollinearity\n",
    "\n",
    "As I mentioned earlier, to fix multicollinearity we have to remove highly correlated variables(with a high variance inflation factor). There is no upper limit in VIF and VIF that exceeds 10 is often regarded as indicating multicollinearity."
   ]
  },
  {
   "cell_type": "code",
   "execution_count": 17,
   "id": "simple-mount",
   "metadata": {
    "execution": {
     "iopub.execute_input": "2021-08-18T08:48:30.122969Z",
     "iopub.status.busy": "2021-08-18T08:48:30.122044Z",
     "iopub.status.idle": "2021-08-18T08:48:30.133394Z",
     "shell.execute_reply": "2021-08-18T08:48:30.132968Z",
     "shell.execute_reply.started": "2021-08-18T08:47:55.519305Z"
    },
    "papermill": {
     "duration": 0.056616,
     "end_time": "2021-08-18T08:48:30.133523",
     "exception": false,
     "start_time": "2021-08-18T08:48:30.076907",
     "status": "completed"
    },
    "tags": []
   },
   "outputs": [
    {
     "data": {
      "text/html": [
       "<div>\n",
       "<style scoped>\n",
       "    .dataframe tbody tr th:only-of-type {\n",
       "        vertical-align: middle;\n",
       "    }\n",
       "\n",
       "    .dataframe tbody tr th {\n",
       "        vertical-align: top;\n",
       "    }\n",
       "\n",
       "    .dataframe thead th {\n",
       "        text-align: right;\n",
       "    }\n",
       "</style>\n",
       "<table border=\"1\" class=\"dataframe\">\n",
       "  <thead>\n",
       "    <tr style=\"text-align: right;\">\n",
       "      <th></th>\n",
       "      <th>variables</th>\n",
       "      <th>VIF</th>\n",
       "    </tr>\n",
       "  </thead>\n",
       "  <tbody>\n",
       "    <tr>\n",
       "      <th>0</th>\n",
       "      <td>citric acid</td>\n",
       "      <td>3.160786</td>\n",
       "    </tr>\n",
       "    <tr>\n",
       "      <th>1</th>\n",
       "      <td>residual sugar</td>\n",
       "      <td>26.308006</td>\n",
       "    </tr>\n",
       "    <tr>\n",
       "      <th>2</th>\n",
       "      <td>density</td>\n",
       "      <td>53.957803</td>\n",
       "    </tr>\n",
       "    <tr>\n",
       "      <th>3</th>\n",
       "      <td>sulphates</td>\n",
       "      <td>32.748152</td>\n",
       "    </tr>\n",
       "  </tbody>\n",
       "</table>\n",
       "</div>"
      ],
      "text/plain": [
       "        variables        VIF\n",
       "0     citric acid   3.160786\n",
       "1  residual sugar  26.308006\n",
       "2         density  53.957803\n",
       "3       sulphates  32.748152"
      ]
     },
     "execution_count": 17,
     "metadata": {},
     "output_type": "execute_result"
    }
   ],
   "source": [
    "calVIF(df[['citric acid','residual sugar','density', 'sulphates']])"
   ]
  },
  {
   "cell_type": "markdown",
   "id": "painted-internship",
   "metadata": {
    "papermill": {
     "duration": 0.039288,
     "end_time": "2021-08-18T08:48:30.212356",
     "exception": false,
     "start_time": "2021-08-18T08:48:30.173068",
     "status": "completed"
    },
    "tags": []
   },
   "source": [
    "After removing multicollinearity we have four variables. Let's address the next issue.\n",
    "\n",
    "### 2. Fix Normality of the Error Terms\n",
    "\n",
    "Let's measure the skewness of the selected variables, if skewness is 0, the data are perfectly symmetrical, although it is quite unlikely for real-world data. As a general rule of thumb:\n",
    "* If skewness is less than - 1 or greater than 1, the distribution is highly skewed.\n",
    "* If skewness is between - 1 and -0.5 or between 0.5 and 1, the distribution is moderately skewed.\n",
    "* If skewness is between - 0.5 and 0.5, the distribution is approximately symmetric."
   ]
  },
  {
   "cell_type": "code",
   "execution_count": 18,
   "id": "fossil-vaccine",
   "metadata": {
    "execution": {
     "iopub.execute_input": "2021-08-18T08:48:30.299407Z",
     "iopub.status.busy": "2021-08-18T08:48:30.298443Z",
     "iopub.status.idle": "2021-08-18T08:48:30.314638Z",
     "shell.execute_reply": "2021-08-18T08:48:30.314195Z",
     "shell.execute_reply.started": "2021-08-18T08:47:55.548084Z"
    },
    "papermill": {
     "duration": 0.062969,
     "end_time": "2021-08-18T08:48:30.314772",
     "exception": false,
     "start_time": "2021-08-18T08:48:30.251803",
     "status": "completed"
    },
    "tags": []
   },
   "outputs": [
    {
     "data": {
      "text/html": [
       "<div>\n",
       "<style scoped>\n",
       "    .dataframe tbody tr th:only-of-type {\n",
       "        vertical-align: middle;\n",
       "    }\n",
       "\n",
       "    .dataframe tbody tr th {\n",
       "        vertical-align: top;\n",
       "    }\n",
       "\n",
       "    .dataframe thead th {\n",
       "        text-align: right;\n",
       "    }\n",
       "</style>\n",
       "<table border=\"1\" class=\"dataframe\">\n",
       "  <thead>\n",
       "    <tr style=\"text-align: right;\">\n",
       "      <th></th>\n",
       "      <th>skew</th>\n",
       "      <th>kurtosis</th>\n",
       "      <th>label</th>\n",
       "    </tr>\n",
       "  </thead>\n",
       "  <tbody>\n",
       "    <tr>\n",
       "      <th>citric acid</th>\n",
       "      <td>0.311567</td>\n",
       "      <td>-0.907004</td>\n",
       "      <td>approximately symmetric</td>\n",
       "    </tr>\n",
       "    <tr>\n",
       "      <th>residual sugar</th>\n",
       "      <td>0.610312</td>\n",
       "      <td>0.399175</td>\n",
       "      <td>moderately  skewed</td>\n",
       "    </tr>\n",
       "    <tr>\n",
       "      <th>density</th>\n",
       "      <td>0.051941</td>\n",
       "      <td>-0.024560</td>\n",
       "      <td>approximately symmetric</td>\n",
       "    </tr>\n",
       "    <tr>\n",
       "      <th>sulphates</th>\n",
       "      <td>0.623801</td>\n",
       "      <td>0.043539</td>\n",
       "      <td>moderately  skewed</td>\n",
       "    </tr>\n",
       "  </tbody>\n",
       "</table>\n",
       "</div>"
      ],
      "text/plain": [
       "                    skew  kurtosis                    label\n",
       "citric acid     0.311567 -0.907004  approximately symmetric\n",
       "residual sugar  0.610312  0.399175       moderately  skewed\n",
       "density         0.051941 -0.024560  approximately symmetric\n",
       "sulphates       0.623801  0.043539       moderately  skewed"
      ]
     },
     "execution_count": 18,
     "metadata": {},
     "output_type": "execute_result"
    }
   ],
   "source": [
    "#skewness and kurtosis\n",
    "def skew(columns, df):\n",
    "    dfs = df[columns].agg(['skew', 'kurtosis']).transpose()\n",
    "    for index, row in dfs.iterrows():\n",
    "        if (abs(row['skew']) > 1):\n",
    "            dfs.loc[index,'label'] = 'highly skewed'\n",
    "        elif (0.5 < abs(row['skew']) < 1):\n",
    "            dfs.loc[index,'label'] = 'moderately  skewed'\n",
    "        else:\n",
    "            dfs.loc[index,'label'] = 'approximately symmetric'\n",
    "        \n",
    "    return dfs\n",
    "\n",
    "columns = ['citric acid','residual sugar','density', 'sulphates']\n",
    "skew(columns, df)"
   ]
  },
  {
   "cell_type": "markdown",
   "id": "honey-tokyo",
   "metadata": {
    "papermill": {
     "duration": 0.039217,
     "end_time": "2021-08-18T08:48:30.393519",
     "exception": false,
     "start_time": "2021-08-18T08:48:30.354302",
     "status": "completed"
    },
    "tags": []
   },
   "source": [
    "We can see two variables are not normally distributed, to further confirm this we can conduct the Shapiro-Wilk test.\n",
    "\n",
    "Shapiro-Wilk uses below hypothesis:\n",
    "* H0 = The sample comes from a normal distribution.\n",
    "* H1 = The sample is not coming from a normal distribution.\n",
    "\n",
    "If the data is not normalized, we can apply a transformation to convert skewed distribution to a normal distribution/less-skewed distribution."
   ]
  },
  {
   "cell_type": "code",
   "execution_count": 19,
   "id": "narrow-charity",
   "metadata": {
    "execution": {
     "iopub.execute_input": "2021-08-18T08:48:30.475512Z",
     "iopub.status.busy": "2021-08-18T08:48:30.474945Z",
     "iopub.status.idle": "2021-08-18T08:48:30.487987Z",
     "shell.execute_reply": "2021-08-18T08:48:30.487427Z",
     "shell.execute_reply.started": "2021-08-18T08:47:55.574980Z"
    },
    "papermill": {
     "duration": 0.055161,
     "end_time": "2021-08-18T08:48:30.488118",
     "exception": false,
     "start_time": "2021-08-18T08:48:30.432957",
     "status": "completed"
    },
    "tags": []
   },
   "outputs": [
    {
     "data": {
      "text/html": [
       "<div>\n",
       "<style scoped>\n",
       "    .dataframe tbody tr th:only-of-type {\n",
       "        vertical-align: middle;\n",
       "    }\n",
       "\n",
       "    .dataframe tbody tr th {\n",
       "        vertical-align: top;\n",
       "    }\n",
       "\n",
       "    .dataframe thead th {\n",
       "        text-align: right;\n",
       "    }\n",
       "</style>\n",
       "<table border=\"1\" class=\"dataframe\">\n",
       "  <thead>\n",
       "    <tr style=\"text-align: right;\">\n",
       "      <th></th>\n",
       "      <th>column</th>\n",
       "      <th>statistic</th>\n",
       "      <th>p-value</th>\n",
       "      <th>label</th>\n",
       "    </tr>\n",
       "  </thead>\n",
       "  <tbody>\n",
       "    <tr>\n",
       "      <th>0</th>\n",
       "      <td>residual sugar</td>\n",
       "      <td>0.971817</td>\n",
       "      <td>2.208600e-14</td>\n",
       "      <td>The null hypothesis can be rejected.</td>\n",
       "    </tr>\n",
       "    <tr>\n",
       "      <th>1</th>\n",
       "      <td>sulphates</td>\n",
       "      <td>0.968242</td>\n",
       "      <td>2.151200e-15</td>\n",
       "      <td>The null hypothesis can be rejected.</td>\n",
       "    </tr>\n",
       "  </tbody>\n",
       "</table>\n",
       "</div>"
      ],
      "text/plain": [
       "           column  statistic       p-value  \\\n",
       "0  residual sugar   0.971817  2.208600e-14   \n",
       "1       sulphates   0.968242  2.151200e-15   \n",
       "\n",
       "                                  label  \n",
       "0  The null hypothesis can be rejected.  \n",
       "1  The null hypothesis can be rejected.  "
      ]
     },
     "execution_count": 19,
     "metadata": {},
     "output_type": "execute_result"
    }
   ],
   "source": [
    "#Shapiro-Wilk test\n",
    "def shapiroWilk(columns, df):\n",
    "    data = []\n",
    "\n",
    "    for column in columns:\n",
    "        stat, p = shapiro(df[column])\n",
    "        if (p < 0.05):\n",
    "            label = 'The null hypothesis can be rejected.'\n",
    "        else:\n",
    "            label = 'The null hypothesis cannot be rejected.'\n",
    "\n",
    "        data.append([column, stat, p, label])\n",
    "\n",
    "    return pd.DataFrame(data, columns=['column', 'statistic', 'p-value', 'label'])\n",
    "    \n",
    "\n",
    "columns = ['residual sugar', 'sulphates']\n",
    "shapiroWilk(columns, df)"
   ]
  },
  {
   "cell_type": "code",
   "execution_count": 20,
   "id": "hundred-making",
   "metadata": {
    "execution": {
     "iopub.execute_input": "2021-08-18T08:48:30.590750Z",
     "iopub.status.busy": "2021-08-18T08:48:30.590159Z",
     "iopub.status.idle": "2021-08-18T08:48:31.303536Z",
     "shell.execute_reply": "2021-08-18T08:48:31.303976Z",
     "shell.execute_reply.started": "2021-08-18T08:47:55.593390Z"
    },
    "papermill": {
     "duration": 0.776314,
     "end_time": "2021-08-18T08:48:31.304132",
     "exception": false,
     "start_time": "2021-08-18T08:48:30.527818",
     "status": "completed"
    },
    "tags": []
   },
   "outputs": [
    {
     "data": {
      "image/png": "[encoded data removed]",
      "text/plain": [
       "<Figure size 720x576 with 4 Axes>"
      ]
     },
     "metadata": {
      "needs_background": "light"
     },
     "output_type": "display_data"
    }
   ],
   "source": [
    "def transformDistribution(columns, method):\n",
    "    fig, axes = plt.subplots(ncols=2, nrows=len(columns), figsize=(10, 8))\n",
    "    fig.tight_layout(pad=4)\n",
    "    \n",
    "    for i, column in enumerate(columns):\n",
    "        if method == 'sqrt':\n",
    "            trans = np.sqrt(df[column])\n",
    "        elif method == 'log':\n",
    "            trans = np.log10(df[column]+1)\n",
    "        else:\n",
    "            trans, params = stats.boxcox(df[column]+1)\n",
    "    \n",
    "        sns.distplot(df[column], ax=axes[i][0])\n",
    "        sns.distplot(trans, ax=axes[i][1])\n",
    "\n",
    "        axes[i][0].set_title('Distribution of {0}'.format(column))\n",
    "        axes[i][1].set_title('Distribution of {0} (log)'.format(column))\n",
    "        axes[i][1].set_xlabel('{0} (log)'.format(column))\n",
    "        \n",
    "    plt.show()\n",
    "    \n",
    "transformDistribution(['residual sugar', 'sulphates'], 'log')"
   ]
  },
  {
   "cell_type": "code",
   "execution_count": 21,
   "id": "paperback-authority",
   "metadata": {
    "execution": {
     "iopub.execute_input": "2021-08-18T08:48:31.392654Z",
     "iopub.status.busy": "2021-08-18T08:48:31.391792Z",
     "iopub.status.idle": "2021-08-18T08:48:31.395005Z",
     "shell.execute_reply": "2021-08-18T08:48:31.395439Z",
     "shell.execute_reply.started": "2021-08-18T08:47:56.460340Z"
    },
    "papermill": {
     "duration": 0.04988,
     "end_time": "2021-08-18T08:48:31.395592",
     "exception": false,
     "start_time": "2021-08-18T08:48:31.345712",
     "status": "completed"
    },
    "tags": []
   },
   "outputs": [],
   "source": [
    "df['residual_sugar_log'] = np.log(df['residual sugar'])\n",
    "df['sulphates_log'] = np.log(df['sulphates'])"
   ]
  },
  {
   "cell_type": "code",
   "execution_count": 22,
   "id": "roman-pontiac",
   "metadata": {
    "execution": {
     "iopub.execute_input": "2021-08-18T08:48:31.481543Z",
     "iopub.status.busy": "2021-08-18T08:48:31.481011Z",
     "iopub.status.idle": "2021-08-18T08:48:31.494591Z",
     "shell.execute_reply": "2021-08-18T08:48:31.495052Z",
     "shell.execute_reply.started": "2021-08-18T08:47:56.468977Z"
    },
    "papermill": {
     "duration": 0.058033,
     "end_time": "2021-08-18T08:48:31.495216",
     "exception": false,
     "start_time": "2021-08-18T08:48:31.437183",
     "status": "completed"
    },
    "tags": []
   },
   "outputs": [
    {
     "data": {
      "text/html": [
       "<div>\n",
       "<style scoped>\n",
       "    .dataframe tbody tr th:only-of-type {\n",
       "        vertical-align: middle;\n",
       "    }\n",
       "\n",
       "    .dataframe tbody tr th {\n",
       "        vertical-align: top;\n",
       "    }\n",
       "\n",
       "    .dataframe thead th {\n",
       "        text-align: right;\n",
       "    }\n",
       "</style>\n",
       "<table border=\"1\" class=\"dataframe\">\n",
       "  <thead>\n",
       "    <tr style=\"text-align: right;\">\n",
       "      <th></th>\n",
       "      <th>skew</th>\n",
       "      <th>kurtosis</th>\n",
       "      <th>label</th>\n",
       "    </tr>\n",
       "  </thead>\n",
       "  <tbody>\n",
       "    <tr>\n",
       "      <th>residual_sugar_log</th>\n",
       "      <td>0.029913</td>\n",
       "      <td>-0.041564</td>\n",
       "      <td>approximately symmetric</td>\n",
       "    </tr>\n",
       "    <tr>\n",
       "      <th>sulphates_log</th>\n",
       "      <td>0.166162</td>\n",
       "      <td>-0.192856</td>\n",
       "      <td>approximately symmetric</td>\n",
       "    </tr>\n",
       "  </tbody>\n",
       "</table>\n",
       "</div>"
      ],
      "text/plain": [
       "                        skew  kurtosis                    label\n",
       "residual_sugar_log  0.029913 -0.041564  approximately symmetric\n",
       "sulphates_log       0.166162 -0.192856  approximately symmetric"
      ]
     },
     "execution_count": 22,
     "metadata": {},
     "output_type": "execute_result"
    }
   ],
   "source": [
    "skew(['residual_sugar_log', 'sulphates_log'], df)"
   ]
  },
  {
   "cell_type": "markdown",
   "id": "purple-costs",
   "metadata": {
    "papermill": {
     "duration": 0.052584,
     "end_time": "2021-08-18T08:48:31.591248",
     "exception": false,
     "start_time": "2021-08-18T08:48:31.538664",
     "status": "completed"
    },
    "tags": []
   },
   "source": [
    "Ok, after log transformation distributions are approximately symmetric. Let's normalize data, normalization or scaling refers to bringing all the columns into the same range."
   ]
  },
  {
   "cell_type": "code",
   "execution_count": 23,
   "id": "accredited-certificate",
   "metadata": {
    "execution": {
     "iopub.execute_input": "2021-08-18T08:48:31.691974Z",
     "iopub.status.busy": "2021-08-18T08:48:31.691377Z",
     "iopub.status.idle": "2021-08-18T08:48:31.729956Z",
     "shell.execute_reply": "2021-08-18T08:48:31.730359Z",
     "shell.execute_reply.started": "2021-08-18T08:47:56.497449Z"
    },
    "papermill": {
     "duration": 0.083746,
     "end_time": "2021-08-18T08:48:31.730523",
     "exception": false,
     "start_time": "2021-08-18T08:48:31.646777",
     "status": "completed"
    },
    "tags": []
   },
   "outputs": [
    {
     "data": {
      "text/html": [
       "<div>\n",
       "<style scoped>\n",
       "    .dataframe tbody tr th:only-of-type {\n",
       "        vertical-align: middle;\n",
       "    }\n",
       "\n",
       "    .dataframe tbody tr th {\n",
       "        vertical-align: top;\n",
       "    }\n",
       "\n",
       "    .dataframe thead th {\n",
       "        text-align: right;\n",
       "    }\n",
       "</style>\n",
       "<table border=\"1\" class=\"dataframe\">\n",
       "  <thead>\n",
       "    <tr style=\"text-align: right;\">\n",
       "      <th></th>\n",
       "      <th>fixed acidity</th>\n",
       "      <th>volatile acidity</th>\n",
       "      <th>citric acid</th>\n",
       "      <th>residual sugar</th>\n",
       "      <th>chlorides</th>\n",
       "      <th>free sulfur dioxide</th>\n",
       "      <th>total sulfur dioxide</th>\n",
       "      <th>density</th>\n",
       "      <th>pH</th>\n",
       "      <th>sulphates</th>\n",
       "      <th>alcohol</th>\n",
       "      <th>quality</th>\n",
       "      <th>residual_sugar_log</th>\n",
       "      <th>sulphates_log</th>\n",
       "      <th>citric_acid_norm</th>\n",
       "      <th>density_norm</th>\n",
       "      <th>residual_sugar_norm</th>\n",
       "      <th>sulphates_norm</th>\n",
       "    </tr>\n",
       "  </thead>\n",
       "  <tbody>\n",
       "    <tr>\n",
       "      <th>0</th>\n",
       "      <td>7.4</td>\n",
       "      <td>0.70</td>\n",
       "      <td>0.00</td>\n",
       "      <td>1.9</td>\n",
       "      <td>0.076</td>\n",
       "      <td>11.0</td>\n",
       "      <td>34.0</td>\n",
       "      <td>0.9978</td>\n",
       "      <td>3.51</td>\n",
       "      <td>0.56</td>\n",
       "      <td>9.4</td>\n",
       "      <td>5</td>\n",
       "      <td>0.641854</td>\n",
       "      <td>-0.579818</td>\n",
       "      <td>0.000000</td>\n",
       "      <td>0.629630</td>\n",
       "      <td>0.418284</td>\n",
       "      <td>0.485865</td>\n",
       "    </tr>\n",
       "    <tr>\n",
       "      <th>1</th>\n",
       "      <td>7.8</td>\n",
       "      <td>0.88</td>\n",
       "      <td>0.00</td>\n",
       "      <td>2.6</td>\n",
       "      <td>0.098</td>\n",
       "      <td>25.0</td>\n",
       "      <td>67.0</td>\n",
       "      <td>0.9968</td>\n",
       "      <td>3.20</td>\n",
       "      <td>0.68</td>\n",
       "      <td>9.8</td>\n",
       "      <td>5</td>\n",
       "      <td>0.955511</td>\n",
       "      <td>-0.385662</td>\n",
       "      <td>0.000000</td>\n",
       "      <td>0.513889</td>\n",
       "      <td>0.703788</td>\n",
       "      <td>0.664241</td>\n",
       "    </tr>\n",
       "    <tr>\n",
       "      <th>2</th>\n",
       "      <td>7.8</td>\n",
       "      <td>0.76</td>\n",
       "      <td>0.04</td>\n",
       "      <td>2.3</td>\n",
       "      <td>0.092</td>\n",
       "      <td>15.0</td>\n",
       "      <td>54.0</td>\n",
       "      <td>0.9970</td>\n",
       "      <td>3.26</td>\n",
       "      <td>0.65</td>\n",
       "      <td>9.8</td>\n",
       "      <td>5</td>\n",
       "      <td>0.832909</td>\n",
       "      <td>-0.430783</td>\n",
       "      <td>0.054795</td>\n",
       "      <td>0.537037</td>\n",
       "      <td>0.592190</td>\n",
       "      <td>0.622788</td>\n",
       "    </tr>\n",
       "    <tr>\n",
       "      <th>3</th>\n",
       "      <td>11.2</td>\n",
       "      <td>0.28</td>\n",
       "      <td>0.56</td>\n",
       "      <td>1.9</td>\n",
       "      <td>0.075</td>\n",
       "      <td>17.0</td>\n",
       "      <td>60.0</td>\n",
       "      <td>0.9980</td>\n",
       "      <td>3.16</td>\n",
       "      <td>0.58</td>\n",
       "      <td>9.8</td>\n",
       "      <td>6</td>\n",
       "      <td>0.641854</td>\n",
       "      <td>-0.544727</td>\n",
       "      <td>0.767123</td>\n",
       "      <td>0.652778</td>\n",
       "      <td>0.418284</td>\n",
       "      <td>0.518104</td>\n",
       "    </tr>\n",
       "    <tr>\n",
       "      <th>4</th>\n",
       "      <td>7.4</td>\n",
       "      <td>0.70</td>\n",
       "      <td>0.00</td>\n",
       "      <td>1.9</td>\n",
       "      <td>0.076</td>\n",
       "      <td>11.0</td>\n",
       "      <td>34.0</td>\n",
       "      <td>0.9978</td>\n",
       "      <td>3.51</td>\n",
       "      <td>0.56</td>\n",
       "      <td>9.4</td>\n",
       "      <td>5</td>\n",
       "      <td>0.641854</td>\n",
       "      <td>-0.579818</td>\n",
       "      <td>0.000000</td>\n",
       "      <td>0.629630</td>\n",
       "      <td>0.418284</td>\n",
       "      <td>0.485865</td>\n",
       "    </tr>\n",
       "  </tbody>\n",
       "</table>\n",
       "</div>"
      ],
      "text/plain": [
       "   fixed acidity  volatile acidity  citric acid  residual sugar  chlorides  \\\n",
       "0            7.4              0.70         0.00             1.9      0.076   \n",
       "1            7.8              0.88         0.00             2.6      0.098   \n",
       "2            7.8              0.76         0.04             2.3      0.092   \n",
       "3           11.2              0.28         0.56             1.9      0.075   \n",
       "4            7.4              0.70         0.00             1.9      0.076   \n",
       "\n",
       "   free sulfur dioxide  total sulfur dioxide  density    pH  sulphates  \\\n",
       "0                 11.0                  34.0   0.9978  3.51       0.56   \n",
       "1                 25.0                  67.0   0.9968  3.20       0.68   \n",
       "2                 15.0                  54.0   0.9970  3.26       0.65   \n",
       "3                 17.0                  60.0   0.9980  3.16       0.58   \n",
       "4                 11.0                  34.0   0.9978  3.51       0.56   \n",
       "\n",
       "   alcohol  quality  residual_sugar_log  sulphates_log  citric_acid_norm  \\\n",
       "0      9.4        5            0.641854      -0.579818          0.000000   \n",
       "1      9.8        5            0.955511      -0.385662          0.000000   \n",
       "2      9.8        5            0.832909      -0.430783          0.054795   \n",
       "3      9.8        6            0.641854      -0.544727          0.767123   \n",
       "4      9.4        5            0.641854      -0.579818          0.000000   \n",
       "\n",
       "   density_norm  residual_sugar_norm  sulphates_norm  \n",
       "0      0.629630             0.418284        0.485865  \n",
       "1      0.513889             0.703788        0.664241  \n",
       "2      0.537037             0.592190        0.622788  \n",
       "3      0.652778             0.418284        0.518104  \n",
       "4      0.629630             0.418284        0.485865  "
      ]
     },
     "execution_count": 23,
     "metadata": {},
     "output_type": "execute_result"
    }
   ],
   "source": [
    "dfScaled = minmax_scale(df[['citric acid','density','residual_sugar_log','sulphates_log']])\n",
    " \n",
    "df['citric_acid_norm'] = dfScaled[:,0]\n",
    "df['density_norm'] = dfScaled[:,1]\n",
    "df['residual_sugar_norm'] = dfScaled[:,2]\n",
    "df['sulphates_norm'] = dfScaled[:,3]\n",
    "\n",
    "df.head()"
   ]
  },
  {
   "cell_type": "markdown",
   "id": "dietary-tongue",
   "metadata": {
    "papermill": {
     "duration": 0.050709,
     "end_time": "2021-08-18T08:48:31.824297",
     "exception": false,
     "start_time": "2021-08-18T08:48:31.773588",
     "status": "completed"
    },
    "tags": []
   },
   "source": [
    "<div class=\"alert alert-block alert-success\" id='ols'><strong>Ordinary Least Squares(OLS)</strong></div>"
   ]
  },
  {
   "cell_type": "code",
   "execution_count": 24,
   "id": "greek-protection",
   "metadata": {
    "execution": {
     "iopub.execute_input": "2021-08-18T08:48:31.934252Z",
     "iopub.status.busy": "2021-08-18T08:48:31.926141Z",
     "iopub.status.idle": "2021-08-18T08:48:31.938420Z",
     "shell.execute_reply": "2021-08-18T08:48:31.937964Z",
     "shell.execute_reply.started": "2021-08-18T08:47:56.534771Z"
    },
    "papermill": {
     "duration": 0.061577,
     "end_time": "2021-08-18T08:48:31.938553",
     "exception": false,
     "start_time": "2021-08-18T08:48:31.876976",
     "status": "completed"
    },
    "tags": []
   },
   "outputs": [
    {
     "data": {
      "text/html": [
       "<div>\n",
       "<style scoped>\n",
       "    .dataframe tbody tr th:only-of-type {\n",
       "        vertical-align: middle;\n",
       "    }\n",
       "\n",
       "    .dataframe tbody tr th {\n",
       "        vertical-align: top;\n",
       "    }\n",
       "\n",
       "    .dataframe thead th {\n",
       "        text-align: right;\n",
       "    }\n",
       "</style>\n",
       "<table border=\"1\" class=\"dataframe\">\n",
       "  <thead>\n",
       "    <tr style=\"text-align: right;\">\n",
       "      <th></th>\n",
       "      <th>citric_acid_norm</th>\n",
       "      <th>density_norm</th>\n",
       "      <th>residual_sugar_norm</th>\n",
       "      <th>sulphates_norm</th>\n",
       "      <th>alcohol</th>\n",
       "    </tr>\n",
       "  </thead>\n",
       "  <tbody>\n",
       "    <tr>\n",
       "      <th>0</th>\n",
       "      <td>0.000000</td>\n",
       "      <td>0.629630</td>\n",
       "      <td>0.418284</td>\n",
       "      <td>0.485865</td>\n",
       "      <td>9.4</td>\n",
       "    </tr>\n",
       "    <tr>\n",
       "      <th>1</th>\n",
       "      <td>0.000000</td>\n",
       "      <td>0.513889</td>\n",
       "      <td>0.703788</td>\n",
       "      <td>0.664241</td>\n",
       "      <td>9.8</td>\n",
       "    </tr>\n",
       "    <tr>\n",
       "      <th>2</th>\n",
       "      <td>0.054795</td>\n",
       "      <td>0.537037</td>\n",
       "      <td>0.592190</td>\n",
       "      <td>0.622788</td>\n",
       "      <td>9.8</td>\n",
       "    </tr>\n",
       "    <tr>\n",
       "      <th>3</th>\n",
       "      <td>0.767123</td>\n",
       "      <td>0.652778</td>\n",
       "      <td>0.418284</td>\n",
       "      <td>0.518104</td>\n",
       "      <td>9.8</td>\n",
       "    </tr>\n",
       "    <tr>\n",
       "      <th>4</th>\n",
       "      <td>0.000000</td>\n",
       "      <td>0.629630</td>\n",
       "      <td>0.418284</td>\n",
       "      <td>0.485865</td>\n",
       "      <td>9.4</td>\n",
       "    </tr>\n",
       "  </tbody>\n",
       "</table>\n",
       "</div>"
      ],
      "text/plain": [
       "   citric_acid_norm  density_norm  residual_sugar_norm  sulphates_norm  \\\n",
       "0          0.000000      0.629630             0.418284        0.485865   \n",
       "1          0.000000      0.513889             0.703788        0.664241   \n",
       "2          0.054795      0.537037             0.592190        0.622788   \n",
       "3          0.767123      0.652778             0.418284        0.518104   \n",
       "4          0.000000      0.629630             0.418284        0.485865   \n",
       "\n",
       "   alcohol  \n",
       "0      9.4  \n",
       "1      9.8  \n",
       "2      9.8  \n",
       "3      9.8  \n",
       "4      9.4  "
      ]
     },
     "execution_count": 24,
     "metadata": {},
     "output_type": "execute_result"
    }
   ],
   "source": [
    "df = df[['citric_acid_norm','density_norm','residual_sugar_norm','sulphates_norm', 'alcohol']]\n",
    "df.head()"
   ]
  },
  {
   "cell_type": "code",
   "execution_count": 25,
   "id": "addressed-cradle",
   "metadata": {
    "execution": {
     "iopub.execute_input": "2021-08-18T08:48:32.038428Z",
     "iopub.status.busy": "2021-08-18T08:48:32.037771Z",
     "iopub.status.idle": "2021-08-18T08:48:32.044901Z",
     "shell.execute_reply": "2021-08-18T08:48:32.045641Z",
     "shell.execute_reply.started": "2021-08-18T08:47:56.553727Z"
    },
    "papermill": {
     "duration": 0.062001,
     "end_time": "2021-08-18T08:48:32.045849",
     "exception": false,
     "start_time": "2021-08-18T08:48:31.983848",
     "status": "completed"
    },
    "tags": []
   },
   "outputs": [],
   "source": [
    "X = df.drop(['alcohol'], axis=1)\n",
    "y = df['alcohol']\n",
    "\n",
    "X = sm.add_constant(X)\n",
    "x_train, x_test, y_train, y_test = train_test_split(X, y, train_size=0.7, random_state=50)"
   ]
  },
  {
   "cell_type": "code",
   "execution_count": 26,
   "id": "harmful-upgrade",
   "metadata": {
    "execution": {
     "iopub.execute_input": "2021-08-18T08:48:32.146337Z",
     "iopub.status.busy": "2021-08-18T08:48:32.145679Z",
     "iopub.status.idle": "2021-08-18T08:48:32.161131Z",
     "shell.execute_reply": "2021-08-18T08:48:32.161587Z",
     "shell.execute_reply.started": "2021-08-18T08:47:56.566045Z"
    },
    "papermill": {
     "duration": 0.065201,
     "end_time": "2021-08-18T08:48:32.161743",
     "exception": false,
     "start_time": "2021-08-18T08:48:32.096542",
     "status": "completed"
    },
    "tags": []
   },
   "outputs": [
    {
     "name": "stdout",
     "output_type": "stream",
     "text": [
      "                            OLS Regression Results                            \n",
      "==============================================================================\n",
      "Dep. Variable:                alcohol   R-squared:                       0.537\n",
      "Model:                            OLS   Adj. R-squared:                  0.535\n",
      "Method:                 Least Squares   F-statistic:                     238.2\n",
      "Date:                Wed, 18 Aug 2021   Prob (F-statistic):          1.19e-135\n",
      "Time:                        08:48:32   Log-Likelihood:                -815.56\n",
      "No. Observations:                 825   AIC:                             1641.\n",
      "Df Residuals:                     820   BIC:                             1665.\n",
      "Df Model:                           4                                         \n",
      "Covariance Type:            nonrobust                                         \n",
      "=======================================================================================\n",
      "                          coef    std err          t      P>|t|      [0.025      0.975]\n",
      "---------------------------------------------------------------------------------------\n",
      "const                  10.2203      0.109     94.036      0.000      10.007      10.434\n",
      "citric_acid_norm        0.9384      0.101      9.283      0.000       0.740       1.137\n",
      "density_norm           -4.0054      0.139    -28.882      0.000      -4.278      -3.733\n",
      "residual_sugar_norm     1.7621      0.136     12.943      0.000       1.495       2.029\n",
      "sulphates_norm          1.4542      0.140     10.370      0.000       1.179       1.729\n",
      "==============================================================================\n",
      "Omnibus:                       15.093   Durbin-Watson:                   2.013\n",
      "Prob(Omnibus):                  0.001   Jarque-Bera (JB):               15.686\n",
      "Skew:                           0.336   Prob(JB):                     0.000392\n",
      "Kurtosis:                       2.935   Cond. No.                         10.5\n",
      "==============================================================================\n",
      "\n",
      "Notes:\n",
      "[1] Standard Errors assume that the covariance matrix of the errors is correctly specified.\n"
     ]
    }
   ],
   "source": [
    "model = sm.OLS(y_train, x_train).fit()\n",
    "print(model.summary())"
   ]
  },
  {
   "cell_type": "markdown",
   "id": "novel-trick",
   "metadata": {
    "papermill": {
     "duration": 0.043772,
     "end_time": "2021-08-18T08:48:32.249705",
     "exception": false,
     "start_time": "2021-08-18T08:48:32.205933",
     "status": "completed"
    },
    "tags": []
   },
   "source": [
    "**R-squared:** Signifies the “percentage variation in dependent that is explained by independent variables”. In our case 53.7% variation of Y(alcohol) explained by citric acid, density, residual sugar and sulphates.\n",
    "\n",
    "**Adj. R-squared:** This is the modified version of R-squared which is adjusted for the number of variables in the regression. It increases only when an additional variable adds to the explanatory power to the regression.\n",
    "\n",
    "According to the results, we can see that all four coefficients are statistically significant. Based on the results, we can interpret the regression equation:\n",
    "\n",
    "\n",
    "$$ Y = 10.2203 + 0.9384(citric_i) -4.0054(density_i) +  1.7621(residual_i) + 1.4542(sulphates_i) $$ \n",
    "\n",
    "Bases on the equation, we can interpret the impact of density as: 1 unit increase of density, the alcohol content decreased by 4.0054 on average, holding all other variables constant."
   ]
  },
  {
   "cell_type": "code",
   "execution_count": 27,
   "id": "committed-zimbabwe",
   "metadata": {
    "execution": {
     "iopub.execute_input": "2021-08-18T08:48:32.346998Z",
     "iopub.status.busy": "2021-08-18T08:48:32.346357Z",
     "iopub.status.idle": "2021-08-18T08:48:32.348445Z",
     "shell.execute_reply": "2021-08-18T08:48:32.348906Z",
     "shell.execute_reply.started": "2021-08-18T08:47:56.589465Z"
    },
    "papermill": {
     "duration": 0.055242,
     "end_time": "2021-08-18T08:48:32.349084",
     "exception": false,
     "start_time": "2021-08-18T08:48:32.293842",
     "status": "completed"
    },
    "tags": []
   },
   "outputs": [],
   "source": [
    "y_pred = model.predict(x_test)"
   ]
  },
  {
   "cell_type": "code",
   "execution_count": 28,
   "id": "selected-bryan",
   "metadata": {
    "execution": {
     "iopub.execute_input": "2021-08-18T08:48:32.444757Z",
     "iopub.status.busy": "2021-08-18T08:48:32.443853Z",
     "iopub.status.idle": "2021-08-18T08:48:32.591177Z",
     "shell.execute_reply": "2021-08-18T08:48:32.591578Z",
     "shell.execute_reply.started": "2021-08-18T08:47:56.595722Z"
    },
    "papermill": {
     "duration": 0.197786,
     "end_time": "2021-08-18T08:48:32.591751",
     "exception": false,
     "start_time": "2021-08-18T08:48:32.393965",
     "status": "completed"
    },
    "tags": []
   },
   "outputs": [
    {
     "data": {
      "image/png": "[encoded data removed]",
      "text/plain": [
       "<Figure size 432x288 with 1 Axes>"
      ]
     },
     "metadata": {
      "needs_background": "light"
     },
     "output_type": "display_data"
    }
   ],
   "source": [
    "sns.regplot(y_test, y_pred, line_kws={'color':'red'}, ci=None)\n",
    "\n",
    "plt.xlabel('Actual')\n",
    "plt.ylabel('Predictions')\n",
    "plt.title('Prediction vs Actual')\n",
    "\n",
    "plt.show()"
   ]
  },
  {
   "cell_type": "markdown",
   "id": "persistent-burton",
   "metadata": {
    "papermill": {
     "duration": 0.044319,
     "end_time": "2021-08-18T08:48:32.680708",
     "exception": false,
     "start_time": "2021-08-18T08:48:32.636389",
     "status": "completed"
    },
    "tags": []
   },
   "source": [
    "We were able to train a decent linear regression model using available data. But our model was only able to explain 53.7% variance of Y(alcohol) and I think there will be some additional important factors that are related to red wine alcohol content. What do you think ?\n",
    "\n",
    "<div class=\"alert alert-block alert-success\" id='mtt'><strong>Model Training and Testing</strong></div>"
   ]
  },
  {
   "cell_type": "code",
   "execution_count": 29,
   "id": "mounted-server",
   "metadata": {
    "execution": {
     "iopub.execute_input": "2021-08-18T08:48:32.772799Z",
     "iopub.status.busy": "2021-08-18T08:48:32.771953Z",
     "iopub.status.idle": "2021-08-18T08:48:32.788997Z",
     "shell.execute_reply": "2021-08-18T08:48:32.789487Z",
     "shell.execute_reply.started": "2021-08-18T08:47:56.787182Z"
    },
    "papermill": {
     "duration": 0.064428,
     "end_time": "2021-08-18T08:48:32.789650",
     "exception": false,
     "start_time": "2021-08-18T08:48:32.725222",
     "status": "completed"
    },
    "tags": []
   },
   "outputs": [
    {
     "data": {
      "text/plain": [
       "LinearRegression()"
      ]
     },
     "execution_count": 29,
     "metadata": {},
     "output_type": "execute_result"
    }
   ],
   "source": [
    "lr = LinearRegression()\n",
    "lr.fit(x_train, y_train)"
   ]
  },
  {
   "cell_type": "code",
   "execution_count": 30,
   "id": "proper-knitting",
   "metadata": {
    "execution": {
     "iopub.execute_input": "2021-08-18T08:48:32.885079Z",
     "iopub.status.busy": "2021-08-18T08:48:32.884346Z",
     "iopub.status.idle": "2021-08-18T08:48:32.889180Z",
     "shell.execute_reply": "2021-08-18T08:48:32.889579Z",
     "shell.execute_reply.started": "2021-08-18T08:47:56.809741Z"
    },
    "papermill": {
     "duration": 0.054666,
     "end_time": "2021-08-18T08:48:32.889736",
     "exception": false,
     "start_time": "2021-08-18T08:48:32.835070",
     "status": "completed"
    },
    "tags": []
   },
   "outputs": [
    {
     "name": "stdout",
     "output_type": "stream",
     "text": [
      "10.22025504645475\n"
     ]
    }
   ],
   "source": [
    "print(lr.intercept_)"
   ]
  },
  {
   "cell_type": "code",
   "execution_count": 31,
   "id": "concerned-avatar",
   "metadata": {
    "execution": {
     "iopub.execute_input": "2021-08-18T08:48:32.986577Z",
     "iopub.status.busy": "2021-08-18T08:48:32.985950Z",
     "iopub.status.idle": "2021-08-18T08:48:32.989414Z",
     "shell.execute_reply": "2021-08-18T08:48:32.988850Z",
     "shell.execute_reply.started": "2021-08-18T08:47:56.816490Z"
    },
    "papermill": {
     "duration": 0.053744,
     "end_time": "2021-08-18T08:48:32.989544",
     "exception": false,
     "start_time": "2021-08-18T08:48:32.935800",
     "status": "completed"
    },
    "tags": []
   },
   "outputs": [
    {
     "name": "stdout",
     "output_type": "stream",
     "text": [
      "[ 0.          0.93837475 -4.00536435  1.76207581  1.45418345]\n"
     ]
    }
   ],
   "source": [
    "print(lr.coef_)"
   ]
  },
  {
   "cell_type": "code",
   "execution_count": 32,
   "id": "headed-pricing",
   "metadata": {
    "execution": {
     "iopub.execute_input": "2021-08-18T08:48:33.114890Z",
     "iopub.status.busy": "2021-08-18T08:48:33.114312Z",
     "iopub.status.idle": "2021-08-18T08:48:33.121210Z",
     "shell.execute_reply": "2021-08-18T08:48:33.120616Z",
     "shell.execute_reply.started": "2021-08-18T08:47:56.828192Z"
    },
    "papermill": {
     "duration": 0.085003,
     "end_time": "2021-08-18T08:48:33.121342",
     "exception": false,
     "start_time": "2021-08-18T08:48:33.036339",
     "status": "completed"
    },
    "tags": []
   },
   "outputs": [],
   "source": [
    "y_pred = lr.predict(x_test)"
   ]
  },
  {
   "cell_type": "markdown",
   "id": "yellow-connectivity",
   "metadata": {
    "papermill": {
     "duration": 0.045264,
     "end_time": "2021-08-18T08:48:33.212253",
     "exception": false,
     "start_time": "2021-08-18T08:48:33.166989",
     "status": "completed"
    },
    "tags": []
   },
   "source": [
    "Model evaluation is very important. It helps you to understand the performance of yhe model and makes it easy to present the model. Tere are 3 main metrics for model evaluation in regression:\n",
    "\n",
    "1. R Square/Adjusted R Square\n",
    "2. Mean Square Error(MSE)/Root Mean Square Error(RMSE)\n",
    "3. Mean Absolute Error(MAE)"
   ]
  },
  {
   "cell_type": "code",
   "execution_count": 33,
   "id": "dominican-genre",
   "metadata": {
    "execution": {
     "iopub.execute_input": "2021-08-18T08:48:33.308394Z",
     "iopub.status.busy": "2021-08-18T08:48:33.307552Z",
     "iopub.status.idle": "2021-08-18T08:48:33.311564Z",
     "shell.execute_reply": "2021-08-18T08:48:33.311076Z",
     "shell.execute_reply.started": "2021-08-18T08:47:56.840979Z"
    },
    "papermill": {
     "duration": 0.054194,
     "end_time": "2021-08-18T08:48:33.311698",
     "exception": false,
     "start_time": "2021-08-18T08:48:33.257504",
     "status": "completed"
    },
    "tags": []
   },
   "outputs": [
    {
     "data": {
      "text/plain": [
       "0.5969169774809007"
      ]
     },
     "execution_count": 33,
     "metadata": {},
     "output_type": "execute_result"
    }
   ],
   "source": [
    "r2_score(y_test, y_pred)"
   ]
  },
  {
   "cell_type": "markdown",
   "id": "noticed-scheduling",
   "metadata": {
    "execution": {
     "iopub.execute_input": "2021-07-26T06:15:42.965441Z",
     "iopub.status.busy": "2021-07-26T06:15:42.965156Z",
     "iopub.status.idle": "2021-07-26T06:15:42.97582Z",
     "shell.execute_reply": "2021-07-26T06:15:42.974429Z",
     "shell.execute_reply.started": "2021-07-26T06:15:42.965415Z"
    },
    "papermill": {
     "duration": 0.047006,
     "end_time": "2021-08-18T08:48:33.406303",
     "exception": false,
     "start_time": "2021-08-18T08:48:33.359297",
     "status": "completed"
    },
    "tags": []
   },
   "source": [
    "Well, our model is able to explain 59.6% variance of Y(alcohol) for the test data. While R Square/Adjusted R Square are relative measure of how well the model fits dependent variables. MSE, RMSE, or MAE are better be used to compare performance between different regression models."
   ]
  },
  {
   "cell_type": "code",
   "execution_count": 34,
   "id": "critical-converter",
   "metadata": {
    "execution": {
     "iopub.execute_input": "2021-08-18T08:48:33.507418Z",
     "iopub.status.busy": "2021-08-18T08:48:33.506740Z",
     "iopub.status.idle": "2021-08-18T08:48:33.510376Z",
     "shell.execute_reply": "2021-08-18T08:48:33.509926Z",
     "shell.execute_reply.started": "2021-08-18T08:47:56.852160Z"
    },
    "papermill": {
     "duration": 0.056314,
     "end_time": "2021-08-18T08:48:33.510498",
     "exception": false,
     "start_time": "2021-08-18T08:48:33.454184",
     "status": "completed"
    },
    "tags": []
   },
   "outputs": [
    {
     "data": {
      "text/plain": [
       "0.38743223172804375"
      ]
     },
     "execution_count": 34,
     "metadata": {},
     "output_type": "execute_result"
    }
   ],
   "source": [
    "mean_squared_error(y_test, y_pred)"
   ]
  },
  {
   "cell_type": "code",
   "execution_count": 35,
   "id": "changed-scope",
   "metadata": {
    "execution": {
     "iopub.execute_input": "2021-08-18T08:48:33.610811Z",
     "iopub.status.busy": "2021-08-18T08:48:33.610192Z",
     "iopub.status.idle": "2021-08-18T08:48:33.613561Z",
     "shell.execute_reply": "2021-08-18T08:48:33.614027Z",
     "shell.execute_reply.started": "2021-08-18T08:47:56.863413Z"
    },
    "papermill": {
     "duration": 0.05569,
     "end_time": "2021-08-18T08:48:33.614184",
     "exception": false,
     "start_time": "2021-08-18T08:48:33.558494",
     "status": "completed"
    },
    "tags": []
   },
   "outputs": [
    {
     "data": {
      "text/plain": [
       "0.6224405447334257"
      ]
     },
     "execution_count": 35,
     "metadata": {},
     "output_type": "execute_result"
    }
   ],
   "source": [
    "np.sqrt(mean_squared_error(y_test, y_pred))"
   ]
  },
  {
   "cell_type": "markdown",
   "id": "coordinated-hobby",
   "metadata": {
    "papermill": {
     "duration": 0.045084,
     "end_time": "2021-08-18T08:48:33.705774",
     "exception": false,
     "start_time": "2021-08-18T08:48:33.660690",
     "status": "completed"
    },
    "tags": []
   },
   "source": [
    "Hope you've enjoyed my work, if you like my work and need to share something with me leave a comment :)"
   ]
  },
  {
   "cell_type": "markdown",
   "id": "blocked-coordination",
   "metadata": {
    "papermill": {
     "duration": 0.045102,
     "end_time": "2021-08-18T08:48:33.796537",
     "exception": false,
     "start_time": "2021-08-18T08:48:33.751435",
     "status": "completed"
    },
    "tags": []
   },
   "source": [
    "<div class=\"alert alert-block alert-success\" id='rf'><strong>References</strong></div>\n",
    "\n",
    "* https://learningwithdata.com/posts/tylerfolkman/the-ultimate-guide-to-linear-regression/\n",
    "* https://www.analyticsvidhya.com/blog/2021/05/all-you-need-to-know-about-your-first-machine-learning-model-linear-regression/\n",
    "* https://towardsdatascience.com/the-complete-guide-to-linear-regression-in-python-3d3f8f06bf8\n",
    "* https://www.keboola.com/blog/linear-regression-machine-learning\n",
    "* https://rstudio-pubs-static.s3.amazonaws.com/57835_c4ace81da9dc45438ad0c286bcbb4224.html\n",
    "* https://www.itl.nist.gov/div898/handbook/prc/section1/prc16.htm\n",
    "* https://www.kaggle.com/nareshbhat/outlier-the-silent-killer\n",
    "* https://towardsdatascience.com/ways-to-detect-and-remove-the-outliers-404d16608dba\n",
    "* https://community.gooddata.com/metrics-and-maql-kb-articles-43/normality-testing-skewness-and-kurtosis-241\n",
    "* https://towardsdatascience.com/methods-for-normality-test-with-application-in-python-bb91b49ed0f5\n",
    "* https://medium.com/@TheDataGyan/day-8-data-transformation-skewness-normalization-and-much-more-4c144d370e55\n",
    "* https://machinelearningmastery.com/standardscaler-and-minmaxscaler-transforms-in-python/  \n",
    "* https://medium.com/@TheDataGyan/day-8-data-transformation-skewness-normalization-and-much-more-4c144d370e55\n",
    "* https://jyotiyadav99111.medium.com/statistics-how-should-i-interpret-results-of-ols-3bde1ebeec01"
   ]
  }
 ],
 "metadata": {
  "kernelspec": {
   "display_name": "Python 3",
   "language": "python",
   "name": "python3"
  },
  "language_info": {
   "codemirror_mode": {
    "name": "ipython",
    "version": 3
   },
   "file_extension": ".py",
   "mimetype": "text/x-python",
   "name": "python",
   "nbconvert_exporter": "python",
   "pygments_lexer": "ipython3",
   "version": "3.7.10"
  },
  "papermill": {
   "default_parameters": {},
   "duration": 18.829106,
   "end_time": "2021-08-18T08:48:35.085700",
   "environment_variables": {},
   "exception": null,
   "input_path": "__notebook__.ipynb",
   "output_path": "__notebook__.ipynb",
   "parameters": {},
   "start_time": "2021-08-18T08:48:16.256594",
   "version": "2.3.3"
  }
 },
 "nbformat": 4,
 "nbformat_minor": 5
}
