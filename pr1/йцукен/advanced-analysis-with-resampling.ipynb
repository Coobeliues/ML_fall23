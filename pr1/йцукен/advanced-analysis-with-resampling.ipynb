{
 "cells": [
  {
   "cell_type": "markdown",
   "id": "42b71c2d",
   "metadata": {
    "execution": {
     "iopub.execute_input": "2021-11-03T03:40:07.473292Z",
     "iopub.status.busy": "2021-11-03T03:40:07.472817Z",
     "iopub.status.idle": "2021-11-03T03:40:07.489397Z",
     "shell.execute_reply": "2021-11-03T03:40:07.487716Z",
     "shell.execute_reply.started": "2021-11-03T03:40:07.473192Z"
    },
    "papermill": {
     "duration": 0.03875,
     "end_time": "2022-01-31T14:41:40.245417",
     "exception": false,
     "start_time": "2022-01-31T14:41:40.206667",
     "status": "completed"
    },
    "tags": []
   },
   "source": [
    "<p style=\"background-color:#E2ADC3;color:black;font-size:22px;text-align:center;border-radius:10px 9px;font-weight:bold;border:2px solid purple;\">Wine Quality Prediction <span style='font-size:29px; background-color:#9D476B ;'>&#127863;</span></p>\n"
   ]
  },
  {
   "cell_type": "code",
   "execution_count": 1,
   "id": "75a1836f",
   "metadata": {
    "_cell_guid": "b1076dfc-b9ad-4769-8c92-a6c4dae69d19",
    "_uuid": "8f2839f25d086af736a60e9eeb907d3b93b6e0e5",
    "papermill": {
     "duration": 1.056575,
     "end_time": "2022-01-31T14:41:41.509766",
     "exception": false,
     "start_time": "2022-01-31T14:41:40.453191",
     "status": "completed"
    },
    "tags": []
   },
   "outputs": [],
   "source": [
    "import numpy as np\n",
    "import pandas as pd\n",
    "import matplotlib.pyplot as plt\n",
    "import seaborn as sns"
   ]
  },
  {
   "cell_type": "code",
   "execution_count": 2,
   "id": "f422a2ec",
   "metadata": {
    "papermill": {
     "duration": 0.067949,
     "end_time": "2022-01-31T14:41:41.709377",
     "exception": false,
     "start_time": "2022-01-31T14:41:41.641428",
     "status": "completed"
    },
    "tags": []
   },
   "outputs": [
    {
     "data": {
      "text/plain": [
       "(1599, 12)"
      ]
     },
     "execution_count": 2,
     "metadata": {},
     "output_type": "execute_result"
    }
   ],
   "source": [
    "df = pd.read_csv('winequality-red.csv')\n",
    "df.shape"
   ]
  },
  {
   "cell_type": "code",
   "execution_count": 3,
   "id": "e62ccf4d",
   "metadata": {
    "papermill": {
     "duration": 0.077365,
     "end_time": "2022-01-31T14:41:41.824701",
     "exception": false,
     "start_time": "2022-01-31T14:41:41.747336",
     "status": "completed"
    },
    "tags": []
   },
   "outputs": [
    {
     "data": {
      "text/html": [
       "<div>\n",
       "<style scoped>\n",
       "    .dataframe tbody tr th:only-of-type {\n",
       "        vertical-align: middle;\n",
       "    }\n",
       "\n",
       "    .dataframe tbody tr th {\n",
       "        vertical-align: top;\n",
       "    }\n",
       "\n",
       "    .dataframe thead th {\n",
       "        text-align: right;\n",
       "    }\n",
       "</style>\n",
       "<table border=\"1\" class=\"dataframe\">\n",
       "  <thead>\n",
       "    <tr style=\"text-align: right;\">\n",
       "      <th></th>\n",
       "      <th>fixed acidity</th>\n",
       "      <th>volatile acidity</th>\n",
       "      <th>citric acid</th>\n",
       "      <th>residual sugar</th>\n",
       "      <th>chlorides</th>\n",
       "      <th>free sulfur dioxide</th>\n",
       "      <th>total sulfur dioxide</th>\n",
       "      <th>density</th>\n",
       "      <th>pH</th>\n",
       "      <th>sulphates</th>\n",
       "      <th>alcohol</th>\n",
       "      <th>quality</th>\n",
       "    </tr>\n",
       "  </thead>\n",
       "  <tbody>\n",
       "    <tr>\n",
       "      <th>0</th>\n",
       "      <td>7.4</td>\n",
       "      <td>0.70</td>\n",
       "      <td>0.00</td>\n",
       "      <td>1.9</td>\n",
       "      <td>0.076</td>\n",
       "      <td>11.0</td>\n",
       "      <td>34.0</td>\n",
       "      <td>0.9978</td>\n",
       "      <td>3.51</td>\n",
       "      <td>0.56</td>\n",
       "      <td>9.4</td>\n",
       "      <td>5</td>\n",
       "    </tr>\n",
       "    <tr>\n",
       "      <th>1</th>\n",
       "      <td>7.8</td>\n",
       "      <td>0.88</td>\n",
       "      <td>0.00</td>\n",
       "      <td>2.6</td>\n",
       "      <td>0.098</td>\n",
       "      <td>25.0</td>\n",
       "      <td>67.0</td>\n",
       "      <td>0.9968</td>\n",
       "      <td>3.20</td>\n",
       "      <td>0.68</td>\n",
       "      <td>9.8</td>\n",
       "      <td>5</td>\n",
       "    </tr>\n",
       "    <tr>\n",
       "      <th>2</th>\n",
       "      <td>7.8</td>\n",
       "      <td>0.76</td>\n",
       "      <td>0.04</td>\n",
       "      <td>2.3</td>\n",
       "      <td>0.092</td>\n",
       "      <td>15.0</td>\n",
       "      <td>54.0</td>\n",
       "      <td>0.9970</td>\n",
       "      <td>3.26</td>\n",
       "      <td>0.65</td>\n",
       "      <td>9.8</td>\n",
       "      <td>5</td>\n",
       "    </tr>\n",
       "    <tr>\n",
       "      <th>3</th>\n",
       "      <td>11.2</td>\n",
       "      <td>0.28</td>\n",
       "      <td>0.56</td>\n",
       "      <td>1.9</td>\n",
       "      <td>0.075</td>\n",
       "      <td>17.0</td>\n",
       "      <td>60.0</td>\n",
       "      <td>0.9980</td>\n",
       "      <td>3.16</td>\n",
       "      <td>0.58</td>\n",
       "      <td>9.8</td>\n",
       "      <td>6</td>\n",
       "    </tr>\n",
       "    <tr>\n",
       "      <th>4</th>\n",
       "      <td>7.4</td>\n",
       "      <td>0.70</td>\n",
       "      <td>0.00</td>\n",
       "      <td>1.9</td>\n",
       "      <td>0.076</td>\n",
       "      <td>11.0</td>\n",
       "      <td>34.0</td>\n",
       "      <td>0.9978</td>\n",
       "      <td>3.51</td>\n",
       "      <td>0.56</td>\n",
       "      <td>9.4</td>\n",
       "      <td>5</td>\n",
       "    </tr>\n",
       "  </tbody>\n",
       "</table>\n",
       "</div>"
      ],
      "text/plain": [
       "   fixed acidity  volatile acidity  citric acid  residual sugar  chlorides  \\\n",
       "0            7.4              0.70         0.00             1.9      0.076   \n",
       "1            7.8              0.88         0.00             2.6      0.098   \n",
       "2            7.8              0.76         0.04             2.3      0.092   \n",
       "3           11.2              0.28         0.56             1.9      0.075   \n",
       "4            7.4              0.70         0.00             1.9      0.076   \n",
       "\n",
       "   free sulfur dioxide  total sulfur dioxide  density    pH  sulphates  \\\n",
       "0                 11.0                  34.0   0.9978  3.51       0.56   \n",
       "1                 25.0                  67.0   0.9968  3.20       0.68   \n",
       "2                 15.0                  54.0   0.9970  3.26       0.65   \n",
       "3                 17.0                  60.0   0.9980  3.16       0.58   \n",
       "4                 11.0                  34.0   0.9978  3.51       0.56   \n",
       "\n",
       "   alcohol  quality  \n",
       "0      9.4        5  \n",
       "1      9.8        5  \n",
       "2      9.8        5  \n",
       "3      9.8        6  \n",
       "4      9.4        5  "
      ]
     },
     "execution_count": 3,
     "metadata": {},
     "output_type": "execute_result"
    }
   ],
   "source": [
    "df.head()"
   ]
  },
  {
   "cell_type": "code",
   "execution_count": 4,
   "id": "8aa65a10",
   "metadata": {
    "papermill": {
     "duration": 0.049908,
     "end_time": "2022-01-31T14:41:41.913953",
     "exception": false,
     "start_time": "2022-01-31T14:41:41.864045",
     "status": "completed"
    },
    "tags": []
   },
   "outputs": [
    {
     "data": {
      "text/plain": [
       "fixed acidity           float64\n",
       "volatile acidity        float64\n",
       "citric acid             float64\n",
       "residual sugar          float64\n",
       "chlorides               float64\n",
       "free sulfur dioxide     float64\n",
       "total sulfur dioxide    float64\n",
       "density                 float64\n",
       "pH                      float64\n",
       "sulphates               float64\n",
       "alcohol                 float64\n",
       "quality                   int64\n",
       "dtype: object"
      ]
     },
     "execution_count": 4,
     "metadata": {},
     "output_type": "execute_result"
    }
   ],
   "source": [
    "df.dtypes"
   ]
  },
  {
   "cell_type": "code",
   "execution_count": 5,
   "id": "94fa6b95",
   "metadata": {
    "papermill": {
     "duration": 0.051747,
     "end_time": "2022-01-31T14:41:42.004789",
     "exception": false,
     "start_time": "2022-01-31T14:41:41.953042",
     "status": "completed"
    },
    "tags": []
   },
   "outputs": [
    {
     "data": {
      "text/plain": [
       "array([5, 6, 7, 4, 8, 3], dtype=int64)"
      ]
     },
     "execution_count": 5,
     "metadata": {},
     "output_type": "execute_result"
    }
   ],
   "source": [
    "df['quality'].unique()"
   ]
  },
  {
   "cell_type": "code",
   "execution_count": 6,
   "id": "f75138a3-48db-4b70-bf78-dd1291360143",
   "metadata": {
    "tags": []
   },
   "outputs": [
    {
     "data": {
      "text/plain": [
       "0"
      ]
     },
     "execution_count": 6,
     "metadata": {},
     "output_type": "execute_result"
    }
   ],
   "source": [
    "df['quality'].isnull().sum()"
   ]
  },
  {
   "cell_type": "code",
   "execution_count": 7,
   "id": "2ab8e4c8-f7da-4b1e-81e1-c122b8d48e46",
   "metadata": {
    "tags": []
   },
   "outputs": [
    {
     "data": {
      "text/plain": [
       "0"
      ]
     },
     "execution_count": 7,
     "metadata": {},
     "output_type": "execute_result"
    }
   ],
   "source": [
    "df['quality'].isna().sum()"
   ]
  },
  {
   "cell_type": "markdown",
   "id": "b0dc4d57",
   "metadata": {
    "papermill": {
     "duration": 0.039465,
     "end_time": "2022-01-31T14:41:42.084804",
     "exception": false,
     "start_time": "2022-01-31T14:41:42.045339",
     "status": "completed"
    },
    "tags": []
   },
   "source": [
    "<font size=\"4\">recoding the response variable to two categories as high quality and low quality.</font>"
   ]
  },
  {
   "cell_type": "code",
   "execution_count": 8,
   "id": "0cede557",
   "metadata": {
    "papermill": {
     "duration": 0.048293,
     "end_time": "2022-01-31T14:41:42.172074",
     "exception": false,
     "start_time": "2022-01-31T14:41:42.123781",
     "status": "completed"
    },
    "tags": []
   },
   "outputs": [],
   "source": [
    "new=[]\n",
    "for row in df['quality']:\n",
    "    if (row<=5):\n",
    "        val=1\n",
    "    else:\n",
    "        val=2\n",
    "    new.append(val)"
   ]
  },
  {
   "cell_type": "code",
   "execution_count": 9,
   "id": "d72434dd-1823-48e6-b59c-5e2475353606",
   "metadata": {
    "tags": []
   },
   "outputs": [
    {
     "data": {
      "text/plain": [
       "1599"
      ]
     },
     "execution_count": 9,
     "metadata": {},
     "output_type": "execute_result"
    }
   ],
   "source": [
    "len(new)"
   ]
  },
  {
   "cell_type": "code",
   "execution_count": 10,
   "id": "da2d7830",
   "metadata": {
    "papermill": {
     "duration": 0.048017,
     "end_time": "2022-01-31T14:41:42.259592",
     "exception": false,
     "start_time": "2022-01-31T14:41:42.211575",
     "status": "completed"
    },
    "tags": []
   },
   "outputs": [],
   "source": [
    "df['newquality']=new"
   ]
  },
  {
   "cell_type": "code",
   "execution_count": 11,
   "id": "de91d232-5ba4-48ae-b257-b00dc2f01e66",
   "metadata": {
    "tags": []
   },
   "outputs": [
    {
     "data": {
      "text/plain": [
       "<zip at 0x1e0259c44c0>"
      ]
     },
     "execution_count": 11,
     "metadata": {},
     "output_type": "execute_result"
    }
   ],
   "source": [
    "df['newquality'].items()"
   ]
  },
  {
   "cell_type": "code",
   "execution_count": 12,
   "id": "69db9ac4",
   "metadata": {
    "papermill": {
     "duration": 0.057273,
     "end_time": "2022-01-31T14:41:42.356515",
     "exception": false,
     "start_time": "2022-01-31T14:41:42.299242",
     "status": "completed"
    },
    "tags": []
   },
   "outputs": [
    {
     "name": "stdout",
     "output_type": "stream",
     "text": [
      "[(1, 744), (2, 855)]\n"
     ]
    }
   ],
   "source": [
    "from collections import Counter\n",
    "print(sorted(Counter(df['newquality']).items()))"
   ]
  },
  {
   "cell_type": "markdown",
   "id": "89251a17",
   "metadata": {
    "papermill": {
     "duration": 0.048366,
     "end_time": "2022-01-31T14:41:42.453252",
     "exception": false,
     "start_time": "2022-01-31T14:41:42.404886",
     "status": "completed"
    },
    "tags": []
   },
   "source": [
    "<font size=\"4\">here we can see that dataet is not balanced. to overcome this problem we can use oversampling or undersampling. since low class have small number of observations here I am using oversampling techinque.</font>"
   ]
  },
  {
   "cell_type": "code",
   "execution_count": 13,
   "id": "a671fde2-c902-4880-9320-5b91ab34a6cf",
   "metadata": {
    "tags": []
   },
   "outputs": [
    {
     "data": {
      "text/plain": [
       "0       1\n",
       "1       1\n",
       "2       1\n",
       "3       2\n",
       "4       1\n",
       "       ..\n",
       "1594    1\n",
       "1595    2\n",
       "1596    2\n",
       "1597    1\n",
       "1598    2\n",
       "Name: newquality, Length: 1599, dtype: int64"
      ]
     },
     "execution_count": 13,
     "metadata": {},
     "output_type": "execute_result"
    }
   ],
   "source": [
    "df['newquality']"
   ]
  },
  {
   "cell_type": "code",
   "execution_count": 14,
   "id": "8d4e3185",
   "metadata": {
    "papermill": {
     "duration": 0.209475,
     "end_time": "2022-01-31T14:41:42.702531",
     "exception": false,
     "start_time": "2022-01-31T14:41:42.493056",
     "status": "completed"
    },
    "tags": []
   },
   "outputs": [
    {
     "data": {
      "image/png": "[encoded data removed]",
      "text/plain": [
       "<Figure size 640x480 with 1 Axes>"
      ]
     },
     "metadata": {},
     "output_type": "display_data"
    }
   ],
   "source": [
    "sns.countplot(data=df, x='newquality', palette='RdPu')\n",
    "plt.show()"
   ]
  },
  {
   "cell_type": "code",
   "execution_count": 15,
   "id": "147841e5",
   "metadata": {
    "papermill": {
     "duration": 0.502791,
     "end_time": "2022-01-31T14:41:43.245477",
     "exception": false,
     "start_time": "2022-01-31T14:41:42.742686",
     "status": "completed"
    },
    "tags": []
   },
   "outputs": [
    {
     "data": {
      "text/plain": [
       "<Axes: >"
      ]
     },
     "execution_count": 15,
     "metadata": {},
     "output_type": "execute_result"
    },
    {
     "data": {
      "image/png": "[encoded data removed]",
      "text/plain": [
       "<Figure size 640x480 with 2 Axes>"
      ]
     },
     "metadata": {},
     "output_type": "display_data"
    }
   ],
   "source": [
    "#correaltion map\n",
    "sns.heatmap(df.corr())"
   ]
  },
  {
   "cell_type": "markdown",
   "id": "1010ce81",
   "metadata": {
    "papermill": {
     "duration": 0.042014,
     "end_time": "2022-01-31T14:41:43.330821",
     "exception": false,
     "start_time": "2022-01-31T14:41:43.288807",
     "status": "completed"
    },
    "tags": []
   },
   "source": [
    "<font size=\"4\">from the correaltion plot we can see there are some highly correlated variables. in this analysis we are looking for prediction accuracy hence those correlations are neglected and also from the background study of red wines you can see that all the variables in this dataset are really important for final quality prediction.</font>\n",
    "\n",
    "<center><img src=\"https://media.giphy.com/media/l2Je34w7WkZ84f3os/giphy.gif\" style=\"width:500px;height:300px;\"></center>"
   ]
  },
  {
   "cell_type": "code",
   "execution_count": 16,
   "id": "5e719945",
   "metadata": {
    "papermill": {
     "duration": 0.050513,
     "end_time": "2022-01-31T14:41:43.423401",
     "exception": false,
     "start_time": "2022-01-31T14:41:43.372888",
     "status": "completed"
    },
    "tags": []
   },
   "outputs": [],
   "source": [
    "X=df.drop(['quality','newquality'],axis=1)\n",
    "y=df['newquality']"
   ]
  },
  {
   "cell_type": "code",
   "execution_count": 64,
   "id": "43a14e60",
   "metadata": {
    "papermill": {
     "duration": 0.230008,
     "end_time": "2022-01-31T14:41:43.695829",
     "exception": false,
     "start_time": "2022-01-31T14:41:43.465821",
     "status": "completed"
    },
    "tags": []
   },
   "outputs": [],
   "source": [
    "#dividing the dataset into train and test sets\n",
    "from sklearn.model_selection import train_test_split\n",
    "x_train1,x_test,y_train1,y_test=train_test_split(X,y,test_size=0.25, random_state=1234)"
   ]
  },
  {
   "cell_type": "code",
   "execution_count": 22,
   "id": "2cb06b3f",
   "metadata": {
    "papermill": {
     "duration": 0.139399,
     "end_time": "2022-01-31T14:41:44.798394",
     "exception": false,
     "start_time": "2022-01-31T14:41:44.658995",
     "status": "completed"
    },
    "tags": []
   },
   "outputs": [],
   "source": [
    "from sklearn.linear_model import LogisticRegression\n",
    "from sklearn.ensemble import RandomForestClassifier\n",
    "\n",
    "\n",
    "#libraries for model evaluation\n",
    "from sklearn.metrics import accuracy_score\n",
    "# from sklearn.metrics import plot_confusion_matrix\n",
    "from sklearn.metrics import ConfusionMatrixDisplay\n",
    "from sklearn.metrics import classification_report"
   ]
  },
  {
   "cell_type": "markdown",
   "id": "9345b5ca",
   "metadata": {
    "papermill": {
     "duration": 0.056546,
     "end_time": "2022-01-31T14:41:53.105893",
     "exception": false,
     "start_time": "2022-01-31T14:41:53.049347",
     "status": "completed"
    },
    "tags": []
   },
   "source": [
    "<font size=\"4\">stacking classifier gives the highest accuracy which is 85.31%. precision and recall values are also high for this model. hence with SMOTE resampling the best model is stacking classifier with random forest classifier and extra tree classifier.</font>"
   ]
  },
  {
   "cell_type": "markdown",
   "id": "3b71155e",
   "metadata": {
    "papermill": {
     "duration": 0.055135,
     "end_time": "2022-01-31T14:41:53.216938",
     "exception": false,
     "start_time": "2022-01-31T14:41:53.161803",
     "status": "completed"
    },
    "tags": []
   },
   "source": [
    "##  <p style=\"background-color:#E2ADC3;color:black;font-size:20px;text-align:center;border-radius:10px 10px;border:2px solid purple;\"> ✨ models without resampling </p>"
   ]
  },
  {
   "cell_type": "markdown",
   "id": "9ae819de",
   "metadata": {
    "papermill": {
     "duration": 0.05466,
     "end_time": "2022-01-31T14:41:53.326451",
     "exception": false,
     "start_time": "2022-01-31T14:41:53.271791",
     "status": "completed"
    },
    "tags": []
   },
   "source": [
    "<font size=\"4\">now let's see accuracy values without using smote resampling technique</font>"
   ]
  },
  {
   "cell_type": "code",
   "execution_count": 65,
   "id": "2b262d66",
   "metadata": {
    "papermill": {
     "duration": 0.964905,
     "end_time": "2022-01-31T14:41:54.354752",
     "exception": false,
     "start_time": "2022-01-31T14:41:53.389847",
     "status": "completed"
    },
    "tags": []
   },
   "outputs": [
    {
     "name": "stdout",
     "output_type": "stream",
     "text": [
      "train accuracy: 0.7406171809841534 \n",
      " test accuracy: 0.7775\n",
      "\n",
      "\n",
      "classification report for logistic regression\n",
      "              precision    recall  f1-score   support\n",
      "\n",
      "           1       0.78      0.76      0.77       194\n",
      "           2       0.78      0.80      0.79       206\n",
      "\n",
      "    accuracy                           0.78       400\n",
      "   macro avg       0.78      0.78      0.78       400\n",
      "weighted avg       0.78      0.78      0.78       400\n",
      "\n",
      "\n",
      "\n",
      "confusion matrix for logistic regression\n"
     ]
    },
    {
     "data": {
      "text/plain": [
       "<sklearn.metrics._plot.confusion_matrix.ConfusionMatrixDisplay at 0x1e02c102e60>"
      ]
     },
     "execution_count": 65,
     "metadata": {},
     "output_type": "execute_result"
    },
    {
     "data": {
      "image/png": "[encoded data removed]",
      "text/plain": [
       "<Figure size 640x480 with 2 Axes>"
      ]
     },
     "metadata": {},
     "output_type": "display_data"
    }
   ],
   "source": [
    "#logistic regression without resampling\n",
    "lrw = LogisticRegression(max_iter=200000,penalty='l2')\n",
    "model12=lrw.fit(x_train1, y_train1)\n",
    "print(\"train accuracy:\",model12.score(x_train1, y_train1),\"\\n\",\"test accuracy:\",model12.score(x_test,y_test))\n",
    "lrwpred = lrw.predict(x_test)\n",
    "print(\"\\n\")\n",
    "print(\"classification report for logistic regression\")\n",
    "print(classification_report(lrwpred,y_test))\n",
    "print(\"\\n\")\n",
    "print(\"confusion matrix for logistic regression\")\n",
    "# displr = plot_confusion_matrix(lrw, x_test, y_test ,cmap=plt.cm.RdPu , values_format='d')\n",
    "ConfusionMatrixDisplay.from_estimator(lrw, x_test, y_test, cmap=plt.cm.RdPu, values_format='d')\n",
    "\n"
   ]
  },
  {
   "cell_type": "code",
   "execution_count": 20,
   "id": "e7c8e5e6",
   "metadata": {
    "papermill": {
     "duration": 0.680009,
     "end_time": "2022-01-31T14:41:55.958084",
     "exception": false,
     "start_time": "2022-01-31T14:41:55.278075",
     "status": "completed"
    },
    "tags": []
   },
   "outputs": [
    {
     "name": "stdout",
     "output_type": "stream",
     "text": [
      "train accuracy: 1.0 \n",
      " test accuracy: 0.853125\n",
      "\n",
      "\n",
      "classification report for random forest classifier\n",
      "              precision    recall  f1-score   support\n",
      "\n",
      "           1       0.84      0.84      0.84       147\n",
      "           2       0.87      0.86      0.86       173\n",
      "\n",
      "    accuracy                           0.85       320\n",
      "   macro avg       0.85      0.85      0.85       320\n",
      "weighted avg       0.85      0.85      0.85       320\n",
      "\n",
      "\n",
      "\n",
      "confusion matrix for random forest classifier\n"
     ]
    },
    {
     "data": {
      "text/plain": [
       "<sklearn.metrics._plot.confusion_matrix.ConfusionMatrixDisplay at 0x1e0259b8c10>"
      ]
     },
     "execution_count": 20,
     "metadata": {},
     "output_type": "execute_result"
    },
    {
     "data": {
      "image/png": "[encoded data removed]",
      "text/plain": [
       "<Figure size 640x480 with 2 Axes>"
      ]
     },
     "metadata": {},
     "output_type": "display_data"
    }
   ],
   "source": [
    "rfw=RandomForestClassifier()\n",
    "model15=rfw.fit(x_train1, y_train1)\n",
    "print(\"train accuracy:\",model15.score(x_train1, y_train1),\"\\n\",\"test accuracy:\",model15.score(x_test,y_test))\n",
    "\n",
    "rfwpred = rfw.predict(x_test)\n",
    "print(\"\\n\")\n",
    "print(\"classification report for random forest classifier\")\n",
    "print(classification_report(rfwpred,y_test))\n",
    "print(\"\\n\")\n",
    "print(\"confusion matrix for random forest classifier\")\n",
    "# displr = plot_confusion_matrix(rfw, x_test, y_test ,cmap=plt.cm.RdPu , values_format='d')\n",
    "ConfusionMatrixDisplay.from_estimator(rfw, x_test, y_test, cmap=plt.cm.RdPu, values_format='d')\n"
   ]
  },
  {
   "cell_type": "markdown",
   "id": "ab457823",
   "metadata": {
    "papermill": {
     "duration": 0.06734,
     "end_time": "2022-01-31T14:42:01.900511",
     "exception": false,
     "start_time": "2022-01-31T14:42:01.833171",
     "status": "completed"
    },
    "tags": []
   },
   "source": [
    "##  <p style=\"background-color:#E2ADC3;color:black;font-size:20px;text-align:center;border-radius:10px 10px;border:2px solid purple;\">💎 Results </p>"
   ]
  },
  {
   "cell_type": "markdown",
   "id": "59aab303",
   "metadata": {
    "papermill": {
     "duration": 0.066227,
     "end_time": "2022-01-31T14:42:02.035247",
     "exception": false,
     "start_time": "2022-01-31T14:42:01.969020",
     "status": "completed"
    },
    "tags": []
   },
   "source": [
    "<font size=\"4\">from the above models stacking classifier and random forest classifier have higher perfromance than other models. <span style=\"color:red;\">stacking classifier</span> is the one with highest accuracy <span style=\"color:red;\">85.94%</span>. We can see that without resampling there is a slight increase in accuracy. hence the model without SMOTE resampling is the best one. The accuracy can be increased by tuning hyper parameters of these models using scikit learn randomized grid search.  </font>"
   ]
  },
  {
   "cell_type": "markdown",
   "id": "578ab824",
   "metadata": {
    "papermill": {
     "duration": 0.065939,
     "end_time": "2022-01-31T14:42:02.169502",
     "exception": false,
     "start_time": "2022-01-31T14:42:02.103563",
     "status": "completed"
    },
    "tags": []
   },
   "source": [
    "<font size=\"4\"><b>Highly appreciate your questions or feedback related to this notebook. THANK YOU <span style='font-size:22px;'>&#128522;</span></b> </font>\n",
    "\n",
    "\n",
    "\n",
    "\n",
    "<center><img src=\"https://media.giphy.com/media/JPgYys8I2ql8sPAFxz/giphy.gif\" style=\"width:500px;height:300px;\"></center>"
   ]
  }
 ],
 "metadata": {
  "kernelspec": {
   "display_name": "Python 3 (ipykernel)",
   "language": "python",
   "name": "python3"
  },
  "language_info": {
   "codemirror_mode": {
    "name": "ipython",
    "version": 3
   },
   "file_extension": ".py",
   "mimetype": "text/x-python",
   "name": "python",
   "nbconvert_exporter": "python",
   "pygments_lexer": "ipython3",
   "version": "3.10.13"
  },
  "papermill": {
   "default_parameters": {},
   "duration": 30.869786,
   "end_time": "2022-01-31T14:42:03.046495",
   "environment_variables": {},
   "exception": null,
   "input_path": "__notebook__.ipynb",
   "output_path": "__notebook__.ipynb",
   "parameters": {},
   "start_time": "2022-01-31T14:41:32.176709",
   "version": "2.3.3"
  }
 },
 "nbformat": 4,
 "nbformat_minor": 5
}
