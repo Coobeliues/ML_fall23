{
 "cells": [
  {
   "cell_type": "markdown",
   "id": "ced6f4fc-6cd4-4778-a18a-0f6017c4c5d4",
   "metadata": {},
   "source": [
    "https://www.kaggle.com/code/vincentbrunner/ml-from-scratch-custom-linear-models\n",
    "https://www.kaggle.com/code/seongwonr/linear-regression-tracking-variables\n",
    "https://www.kaggle.com/code/tanyildizderya/red-wine-quality-linear-regression\n",
    "https://www.kaggle.com/code/casper06/linear-regression-alcohol-content-prediction\n",
    "https://www.kaggle.com/code/diyasanthosh/red-wine-quality-using-linear-regresion\n",
    "\n",
    "https://www.kaggle.com/datasets/uciml/red-wine-quality-cortez-et-al-2009/code?datasetId=4458&sortBy=voteCount"
   ]
  }
 ],
 "metadata": {
  "kernelspec": {
   "display_name": "Python 3 (ipykernel)",
   "language": "python",
   "name": "python3"
  },
  "language_info": {
   "codemirror_mode": {
    "name": "ipython",
    "version": 3
   },
   "file_extension": ".py",
   "mimetype": "text/x-python",
   "name": "python",
   "nbconvert_exporter": "python",
   "pygments_lexer": "ipython3",
   "version": "3.10.13"
  }
 },
 "nbformat": 4,
 "nbformat_minor": 5
}
